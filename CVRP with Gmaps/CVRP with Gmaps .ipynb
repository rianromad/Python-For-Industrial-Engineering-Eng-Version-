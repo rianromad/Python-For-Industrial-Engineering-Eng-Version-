{
 "cells": [
  {
   "cell_type": "markdown",
   "id": "553156ab",
   "metadata": {},
   "source": [
    "# Capacitated Vehicle Routing Problem with Gmaps\n",
    "In this session, we will solve a fictitious Capacitated VRP case using pulp library for optimization and gmaps library to create a visualization and routing. I will use the location data of the retail company for illustration of the application. Product X will be sent from Alfamidi (Depot) to six Alfamarts. It is assumed that the truck that will transport product X has a capacity of 100 units and there is a clear difference in demand between retailers.\n",
    "\n",
    "\n",
    "In this capacitated VRP model there are several assumptions, including:\n",
    "1. All vehicles used have the same type and capacity\n",
    "2. CVRP does not consider the time window. There is a special model called VRPTW.\n",
    "3. CVRP only considers the delivery capacity."
   ]
  },
  {
   "cell_type": "markdown",
   "id": "0229804c",
   "metadata": {},
   "source": [
    "## 1. Importing Library and Collecting the Data"
   ]
  },
  {
   "cell_type": "code",
   "execution_count": 1,
   "id": "05828ae3",
   "metadata": {},
   "outputs": [],
   "source": [
    "#importing library\n",
    "import numpy as np\n",
    "from pulp import *\n",
    "import gmaps\n",
    "import googlemaps\n",
    "import pandas as pd"
   ]
  },
  {
   "cell_type": "code",
   "execution_count": 2,
   "id": "6e910b02",
   "metadata": {},
   "outputs": [],
   "source": [
    "#Input the API key to create a map and access the distance between two places\n",
    "#If you don't have the key, please register at https://developers.google.com/maps\n",
    "\n",
    "API_KEY = 'Input your API Key here'\n",
    "gmaps.configure(api_key=API_KEY)\n",
    "googlemaps = googlemaps.Client(key=API_KEY)"
   ]
  },
  {
   "cell_type": "code",
   "execution_count": 3,
   "id": "7ed33b43",
   "metadata": {},
   "outputs": [
    {
     "data": {
      "text/html": [
       "<div>\n",
       "<style scoped>\n",
       "    .dataframe tbody tr th:only-of-type {\n",
       "        vertical-align: middle;\n",
       "    }\n",
       "\n",
       "    .dataframe tbody tr th {\n",
       "        vertical-align: top;\n",
       "    }\n",
       "\n",
       "    .dataframe thead th {\n",
       "        text-align: right;\n",
       "    }\n",
       "</style>\n",
       "<table border=\"1\" class=\"dataframe\">\n",
       "  <thead>\n",
       "    <tr style=\"text-align: right;\">\n",
       "      <th></th>\n",
       "      <th>Location</th>\n",
       "      <th>Demand</th>\n",
       "    </tr>\n",
       "    <tr>\n",
       "      <th>Name</th>\n",
       "      <th></th>\n",
       "      <th></th>\n",
       "    </tr>\n",
       "  </thead>\n",
       "  <tbody>\n",
       "    <tr>\n",
       "      <th>Depot</th>\n",
       "      <td>(-7.820275519559818, 110.35576478748318)</td>\n",
       "      <td>0</td>\n",
       "    </tr>\n",
       "    <tr>\n",
       "      <th>Alfamart Bugisan</th>\n",
       "      <td>(-7.818459939237757, 110.34828905480705)</td>\n",
       "      <td>40</td>\n",
       "    </tr>\n",
       "    <tr>\n",
       "      <th>Alfamart Ring Road Selatan</th>\n",
       "      <td>(-7.826882740143658, 110.3457904293808)</td>\n",
       "      <td>50</td>\n",
       "    </tr>\n",
       "    <tr>\n",
       "      <th>Alfamart Bibis</th>\n",
       "      <td>(-7.825849387004239, 110.32770847947735)</td>\n",
       "      <td>50</td>\n",
       "    </tr>\n",
       "    <tr>\n",
       "      <th>Alfamart UMY Tamantirto</th>\n",
       "      <td>(-7.814562872952285, 110.32839097560857)</td>\n",
       "      <td>30</td>\n",
       "    </tr>\n",
       "    <tr>\n",
       "      <th>Alfamart Ngebel</th>\n",
       "      <td>(-7.814073787921593, 110.3183264772633)</td>\n",
       "      <td>20</td>\n",
       "    </tr>\n",
       "    <tr>\n",
       "      <th>Alfamart Ring Road Selatan 2</th>\n",
       "      <td>(-7.809770036857429, 110.32472496772033)</td>\n",
       "      <td>10</td>\n",
       "    </tr>\n",
       "  </tbody>\n",
       "</table>\n",
       "</div>"
      ],
      "text/plain": [
       "                                                              Location  Demand\n",
       "Name                                                                          \n",
       "Depot                         (-7.820275519559818, 110.35576478748318)       0\n",
       "Alfamart Bugisan              (-7.818459939237757, 110.34828905480705)      40\n",
       "Alfamart Ring Road Selatan     (-7.826882740143658, 110.3457904293808)      50\n",
       "Alfamart Bibis                (-7.825849387004239, 110.32770847947735)      50\n",
       "Alfamart UMY Tamantirto       (-7.814562872952285, 110.32839097560857)      30\n",
       "Alfamart Ngebel                (-7.814073787921593, 110.3183264772633)      20\n",
       "Alfamart Ring Road Selatan 2  (-7.809770036857429, 110.32472496772033)      10"
      ]
     },
     "execution_count": 3,
     "metadata": {},
     "output_type": "execute_result"
    }
   ],
   "source": [
    "#I get the data manually using gmaps\n",
    "#Demand data is dummy\n",
    "data = {\"Name\":[\"Depot\",\n",
    "                \"Alfamart Bugisan\",\n",
    "                \"Alfamart Ring Road Selatan\",\n",
    "                \"Alfamart Bibis\",\n",
    "                \"Alfamart UMY Tamantirto\",\n",
    "                \"Alfamart Ngebel\",\n",
    "                \"Alfamart Ring Road Selatan 2\"],\n",
    "        \"Location\":[(-7.820275519559818, 110.35576478748318),\n",
    "                    (-7.818459939237757, 110.34828905480705),\n",
    "                    (-7.826882740143658, 110.3457904293808),\n",
    "                    (-7.825849387004239, 110.32770847947735),\n",
    "                    (-7.814562872952285, 110.32839097560857),\n",
    "                    (-7.814073787921593, 110.3183264772633),\n",
    "                    (-7.809770036857429, 110.32472496772033)],\n",
    "        \"Demand\":[0,40,50,50,30,20,10]}\n",
    "\n",
    "#Assume the vehicle can carry 100 products\n",
    "vehicle_cap = 100\n",
    "alfa = pd.DataFrame(data).set_index(\"Name\")\n",
    "alfa"
   ]
  },
  {
   "cell_type": "markdown",
   "id": "b231b712",
   "metadata": {},
   "source": [
    "## 2. Map Visualization"
   ]
  },
  {
   "cell_type": "code",
   "execution_count": 4,
   "id": "435c4961",
   "metadata": {},
   "outputs": [
    {
     "data": {
      "application/vnd.jupyter.widget-view+json": {
       "model_id": "fd76db1032cb4cb9be2dd3a9f484d6cf",
       "version_major": 2,
       "version_minor": 0
      },
      "text/plain": [
       "Figure(layout=FigureLayout(height='420px'))"
      ]
     },
     "metadata": {},
     "output_type": "display_data"
    }
   ],
   "source": [
    "#See the location\n",
    "alfa_map = gmaps.figure()\n",
    "\n",
    "#I give a blue color for Depot\n",
    "depot = gmaps.symbol_layer([alfa.Location[0]],fill_color=\"blue\",stroke_opacity=0,\n",
    "                           scale=6,info_box_content=\"Depot\",display_info_box=True)\n",
    "\n",
    "#Add a marker for retailer\n",
    "markers = gmaps.marker_layer(alfa.Location[1:])\n",
    " \n",
    "alfa_map.add_layer(depot)    \n",
    "alfa_map.add_layer(markers)\n",
    "    \n",
    "alfa_map"
   ]
  },
  {
   "cell_type": "markdown",
   "id": "94baa898",
   "metadata": {},
   "source": [
    "The output display will be like the image below:\n",
    "\n",
    "<img src=\"https://user-images.githubusercontent.com/61647791/144628288-870c3c6a-ca83-4d02-a273-48b6cd4866be.png\" />"
   ]
  },
  {
   "cell_type": "markdown",
   "id": "39a3aa93",
   "metadata": {},
   "source": [
    "## 3. Distance Between Two Places\n",
    "The next step is to calculate the distance between two places using the API direction from gmaps. The distance that is used is the closest distance between two places with \"driving\" mode. Each distance between two places is then entered into a square matrix with the length and width according to the number of locations including the depot. Here is the code:"
   ]
  },
  {
   "cell_type": "code",
   "execution_count": 5,
   "id": "911b0828",
   "metadata": {},
   "outputs": [],
   "source": [
    "#Function to create distance matrix\n",
    "\n",
    "def distance_matrix(loc_column):\n",
    "    #Create a matrix with nxn size\n",
    "    distance_result = np.zeros((len(loc_column),len(loc_column)))\n",
    "    \n",
    "    for i in range(len(loc_column)):\n",
    "        for j in range(len(loc_column)):\n",
    "            \n",
    "            #Calculate distance between two places\n",
    "            api_result = googlemaps.directions(loc_column[i],\n",
    "                                               loc_column[j],\n",
    "                                               mode = 'driving')\n",
    "            \n",
    "            #Input the calculation in the matrix \n",
    "            distance_result[i][j] = api_result[0]['legs'][0]['distance']['value']\n",
    "    \n",
    "    return distance_result"
   ]
  },
  {
   "cell_type": "code",
   "execution_count": 6,
   "id": "3c96fc00",
   "metadata": {},
   "outputs": [
    {
     "data": {
      "text/html": [
       "<div>\n",
       "<style scoped>\n",
       "    .dataframe tbody tr th:only-of-type {\n",
       "        vertical-align: middle;\n",
       "    }\n",
       "\n",
       "    .dataframe tbody tr th {\n",
       "        vertical-align: top;\n",
       "    }\n",
       "\n",
       "    .dataframe thead th {\n",
       "        text-align: right;\n",
       "    }\n",
       "</style>\n",
       "<table border=\"1\" class=\"dataframe\">\n",
       "  <thead>\n",
       "    <tr style=\"text-align: right;\">\n",
       "      <th>Name</th>\n",
       "      <th>Depot</th>\n",
       "      <th>Alfamart Bugisan</th>\n",
       "      <th>Alfamart Ring Road Selatan</th>\n",
       "      <th>Alfamart Bibis</th>\n",
       "      <th>Alfamart UMY Tamantirto</th>\n",
       "      <th>Alfamart Ngebel</th>\n",
       "      <th>Alfamart Ring Road Selatan 2</th>\n",
       "    </tr>\n",
       "    <tr>\n",
       "      <th>Name</th>\n",
       "      <th></th>\n",
       "      <th></th>\n",
       "      <th></th>\n",
       "      <th></th>\n",
       "      <th></th>\n",
       "      <th></th>\n",
       "      <th></th>\n",
       "    </tr>\n",
       "  </thead>\n",
       "  <tbody>\n",
       "    <tr>\n",
       "      <th>Depot</th>\n",
       "      <td>0.0</td>\n",
       "      <td>1349.0</td>\n",
       "      <td>1782.0</td>\n",
       "      <td>4264.0</td>\n",
       "      <td>4693.0</td>\n",
       "      <td>5764.0</td>\n",
       "      <td>5823.0</td>\n",
       "    </tr>\n",
       "    <tr>\n",
       "      <th>Alfamart Bugisan</th>\n",
       "      <td>1349.0</td>\n",
       "      <td>0.0</td>\n",
       "      <td>2479.0</td>\n",
       "      <td>3536.0</td>\n",
       "      <td>3002.0</td>\n",
       "      <td>5036.0</td>\n",
       "      <td>4132.0</td>\n",
       "    </tr>\n",
       "    <tr>\n",
       "      <th>Alfamart Ring Road Selatan</th>\n",
       "      <td>2518.0</td>\n",
       "      <td>1217.0</td>\n",
       "      <td>0.0</td>\n",
       "      <td>2482.0</td>\n",
       "      <td>2911.0</td>\n",
       "      <td>3982.0</td>\n",
       "      <td>4041.0</td>\n",
       "    </tr>\n",
       "    <tr>\n",
       "      <th>Alfamart Bibis</th>\n",
       "      <td>4269.0</td>\n",
       "      <td>3552.0</td>\n",
       "      <td>3155.0</td>\n",
       "      <td>0.0</td>\n",
       "      <td>1279.0</td>\n",
       "      <td>2350.0</td>\n",
       "      <td>2409.0</td>\n",
       "    </tr>\n",
       "    <tr>\n",
       "      <th>Alfamart UMY Tamantirto</th>\n",
       "      <td>4667.0</td>\n",
       "      <td>3002.0</td>\n",
       "      <td>4176.0</td>\n",
       "      <td>1280.0</td>\n",
       "      <td>0.0</td>\n",
       "      <td>1689.0</td>\n",
       "      <td>1130.0</td>\n",
       "    </tr>\n",
       "    <tr>\n",
       "      <th>Alfamart Ngebel</th>\n",
       "      <td>6246.0</td>\n",
       "      <td>5529.0</td>\n",
       "      <td>5755.0</td>\n",
       "      <td>2827.0</td>\n",
       "      <td>1695.0</td>\n",
       "      <td>0.0</td>\n",
       "      <td>3291.0</td>\n",
       "    </tr>\n",
       "    <tr>\n",
       "      <th>Alfamart Ring Road Selatan 2</th>\n",
       "      <td>5633.0</td>\n",
       "      <td>4916.0</td>\n",
       "      <td>5142.0</td>\n",
       "      <td>2245.0</td>\n",
       "      <td>1070.0</td>\n",
       "      <td>1732.0</td>\n",
       "      <td>0.0</td>\n",
       "    </tr>\n",
       "  </tbody>\n",
       "</table>\n",
       "</div>"
      ],
      "text/plain": [
       "Name                           Depot  Alfamart Bugisan  \\\n",
       "Name                                                     \n",
       "Depot                            0.0            1349.0   \n",
       "Alfamart Bugisan              1349.0               0.0   \n",
       "Alfamart Ring Road Selatan    2518.0            1217.0   \n",
       "Alfamart Bibis                4269.0            3552.0   \n",
       "Alfamart UMY Tamantirto       4667.0            3002.0   \n",
       "Alfamart Ngebel               6246.0            5529.0   \n",
       "Alfamart Ring Road Selatan 2  5633.0            4916.0   \n",
       "\n",
       "Name                          Alfamart Ring Road Selatan  Alfamart Bibis  \\\n",
       "Name                                                                       \n",
       "Depot                                             1782.0          4264.0   \n",
       "Alfamart Bugisan                                  2479.0          3536.0   \n",
       "Alfamart Ring Road Selatan                           0.0          2482.0   \n",
       "Alfamart Bibis                                    3155.0             0.0   \n",
       "Alfamart UMY Tamantirto                           4176.0          1280.0   \n",
       "Alfamart Ngebel                                   5755.0          2827.0   \n",
       "Alfamart Ring Road Selatan 2                      5142.0          2245.0   \n",
       "\n",
       "Name                          Alfamart UMY Tamantirto  Alfamart Ngebel  \\\n",
       "Name                                                                     \n",
       "Depot                                          4693.0           5764.0   \n",
       "Alfamart Bugisan                               3002.0           5036.0   \n",
       "Alfamart Ring Road Selatan                     2911.0           3982.0   \n",
       "Alfamart Bibis                                 1279.0           2350.0   \n",
       "Alfamart UMY Tamantirto                           0.0           1689.0   \n",
       "Alfamart Ngebel                                1695.0              0.0   \n",
       "Alfamart Ring Road Selatan 2                   1070.0           1732.0   \n",
       "\n",
       "Name                          Alfamart Ring Road Selatan 2  \n",
       "Name                                                        \n",
       "Depot                                               5823.0  \n",
       "Alfamart Bugisan                                    4132.0  \n",
       "Alfamart Ring Road Selatan                          4041.0  \n",
       "Alfamart Bibis                                      2409.0  \n",
       "Alfamart UMY Tamantirto                             1130.0  \n",
       "Alfamart Ngebel                                     3291.0  \n",
       "Alfamart Ring Road Selatan 2                           0.0  "
      ]
     },
     "execution_count": 6,
     "metadata": {},
     "output_type": "execute_result"
    }
   ],
   "source": [
    "#We can convert the distance matrix into Pandas DataFrame\n",
    "\n",
    "distance_data = pd.DataFrame(distance_matrix(alfa.Location),columns=alfa.index ,index=alfa.index)\n",
    "distance_data "
   ]
  },
  {
   "cell_type": "code",
   "execution_count": 7,
   "id": "94549415",
   "metadata": {},
   "outputs": [],
   "source": [
    "#You can also save the distance_data \n",
    "distance_data .to_csv(\"alfa_distance.csv\")"
   ]
  },
  {
   "cell_type": "markdown",
   "id": "8e461bdd",
   "metadata": {},
   "source": [
    "## 4. Model Creation\n",
    "The VRP model that I use comes from Paolo Toth and Daniele Vigo which can be seen via the paper link below:\n",
    "https://www.sciencedirect.com/science/article/pii/S0166218X01003511"
   ]
  },
  {
   "cell_type": "markdown",
   "id": "579b86f5",
   "metadata": {},
   "source": [
    "\n",
    "There are two decision variables in this model, namely Xij which is a binary type variable and indicates whether the product is sent from location i to j. The second is the variable K which indicates the number of routes used. For example, if there are three required routes, the company can allocate three vehicles to deliver products at once, or allocate one vehicle to deliver three times. The following is the mathematical model that I used:\n",
    "\n",
    "<img src=\"https://user-images.githubusercontent.com/61647791/144783435-1bd7ccdf-441b-4401-a02b-857d4ccb6c5c.png\" height=800 width=500 />\n"
   ]
  },
  {
   "cell_type": "markdown",
   "id": "4add214d",
   "metadata": {},
   "source": [
    "Paolo Toth and Daniele Vigo also provide an alternative limitation as a substitute for the **number 5** constraint which is commonly referred to as *generalized sub tour elimination constraints (GSEC)*. This constraint is much easier to translate into python code.\n",
    "\n",
    "<img src=\"https://user-images.githubusercontent.com/61647791/144783942-520c9ca2-49fb-40f5-b565-a90032238bfc.png\" width=500 height=300/>"
   ]
  },
  {
   "cell_type": "code",
   "execution_count": 8,
   "id": "9233a0b7",
   "metadata": {},
   "outputs": [],
   "source": [
    "#Initiate the model\n",
    "model = LpProblem(\"VRP\",LpMinimize)\n",
    "\n",
    "#Decision variables\n",
    "x_keys = [(i,j) for i in alfa.index for j in alfa.index]\n",
    "x = LpVariable.dicts(\"x\",x_keys,cat=\"Binary\")\n",
    "n_route = LpVariable(\"n_vehicle\",cat=\"Integer\") "
   ]
  },
  {
   "cell_type": "code",
   "execution_count": 9,
   "id": "423e62c7",
   "metadata": {},
   "outputs": [],
   "source": [
    "#Objective function: minimize the distance\n",
    "model += lpSum(distance_data .loc[i,j]*x[i,j] for i,j in x_keys)"
   ]
  },
  {
   "cell_type": "code",
   "execution_count": 10,
   "id": "588b23fb",
   "metadata": {},
   "outputs": [],
   "source": [
    "#Constraint 0\n",
    "#Make sure there are no arcs from the same starting and destination locations, ex. Alfamart Bugisan to Alfamart Bugisan\n",
    "\n",
    "for i in alfa.index:\n",
    "    model += x[i,i] == 0"
   ]
  },
  {
   "cell_type": "code",
   "execution_count": 11,
   "id": "1a75b8e9",
   "metadata": {},
   "outputs": [],
   "source": [
    "#Constraint 1: indegree constraint\n",
    "#There is one path other than the Depot that goes to location j\n",
    "for j in alfa.iloc[1:].index:\n",
    "    model += lpSum(x[i,j] for i in alfa.index) == 1\n",
    "\n",
    "#Constraint 2: outdegree constraint\n",
    "#There is one path other than the Depot that exits location i\n",
    "for i in alfa.iloc[1:].index:\n",
    "    model += lpSum(x[i,j] for j in alfa.index) == 1"
   ]
  },
  {
   "cell_type": "code",
   "execution_count": 13,
   "id": "a75a5b0d",
   "metadata": {},
   "outputs": [],
   "source": [
    "#Constraint 3: there are n paths exiting the Depot\n",
    "model += lpSum(x[\"Depot\",j] for j in alfa.index) == n_route\n",
    "\n",
    "#Constraint 4: there are n paths that enter the Depot\n",
    "model += lpSum(x[i,\"Depot\"] for i in alfa.index) == n_route"
   ]
  },
  {
   "cell_type": "code",
   "execution_count": 12,
   "id": "01b3330e",
   "metadata": {},
   "outputs": [],
   "source": [
    "#Constraint 5: subtour elimination\n",
    "#Create list untuk collect subtour\n",
    "import itertools as it\n",
    "\n",
    "subtours = []\n",
    "for i in range(2,len(alfa.index)):\n",
    "    subtours += it.combinations(alfa.index[1:], i)\n",
    "\n",
    "for st in subtours:\n",
    "    demand = np.sum([alfa.Demand[s] for s in st])\n",
    "    model += lpSum(x[i,j] for i,j in it.permutations(st,2)) <= np.max([0,len(st)-np.ceil(demand/vehicle_cap)])"
   ]
  },
  {
   "cell_type": "code",
   "execution_count": 15,
   "id": "3f69c8ab",
   "metadata": {},
   "outputs": [],
   "source": [
    "#fFunction to find a subtour and routing result\n",
    "import copy\n",
    "\n",
    "def get_plan(r0):\n",
    "    r=copy.copy(r0)\n",
    "    route = []\n",
    "    while len(r) != 0:\n",
    "        plan = [r[0]]\n",
    "        del (r[0])\n",
    "        l = 0\n",
    "        while len(plan) > l:\n",
    "            l = len(plan)\n",
    "            for i, j in enumerate(r):\n",
    "                if plan[-1][1] == j[0]:\n",
    "                    plan.append(j)\n",
    "                    del (r[i])\n",
    "        route.append(plan)\n",
    "    return(route)"
   ]
  },
  {
   "cell_type": "code",
   "execution_count": 16,
   "id": "7de2bd09",
   "metadata": {},
   "outputs": [
    {
     "name": "stdout",
     "output_type": "stream",
     "text": [
      "-----------------\n",
      "1 Optimal 21992.0\n"
     ]
    }
   ],
   "source": [
    "keys = [(i,j) for i in alfa.index for j in alfa.index]\n",
    "status=model.solve()\n",
    "print(\"-----------------\")\n",
    "print(status,LpStatus[status],value(model.objective))\n",
    "routes=[(i,j) for i,j in x_keys if value(x[i,j])==1]"
   ]
  },
  {
   "cell_type": "code",
   "execution_count": 17,
   "id": "72c0d9e3",
   "metadata": {},
   "outputs": [
    {
     "data": {
      "text/plain": [
       "[[('Depot', 'Alfamart Bugisan'),\n",
       "  ('Alfamart Bugisan', 'Alfamart UMY Tamantirto'),\n",
       "  ('Alfamart UMY Tamantirto', 'Alfamart Ring Road Selatan 2'),\n",
       "  ('Alfamart Ring Road Selatan 2', 'Alfamart Ngebel'),\n",
       "  ('Alfamart Ngebel', 'Depot'),\n",
       "  ('Depot', 'Alfamart Ring Road Selatan'),\n",
       "  ('Alfamart Ring Road Selatan', 'Alfamart Bibis'),\n",
       "  ('Alfamart Bibis', 'Depot')]]"
      ]
     },
     "execution_count": 17,
     "metadata": {},
     "output_type": "execute_result"
    }
   ],
   "source": [
    "#Check the route\n",
    "#There are two routes\n",
    "get_plan(routes)"
   ]
  },
  {
   "cell_type": "code",
   "execution_count": 18,
   "id": "89430965",
   "metadata": {},
   "outputs": [
    {
     "data": {
      "text/plain": [
       "[[('Depot', 'Alfamart Bugisan'),\n",
       "  ('Alfamart Bugisan', 'Alfamart UMY Tamantirto'),\n",
       "  ('Alfamart UMY Tamantirto', 'Alfamart Ring Road Selatan 2'),\n",
       "  ('Alfamart Ring Road Selatan 2', 'Alfamart Ngebel'),\n",
       "  ('Alfamart Ngebel', 'Depot')],\n",
       " [('Depot', 'Alfamart Ring Road Selatan'),\n",
       "  ('Alfamart Ring Road Selatan', 'Alfamart Bibis'),\n",
       "  ('Alfamart Bibis', 'Depot')]]"
      ]
     },
     "execution_count": 18,
     "metadata": {},
     "output_type": "execute_result"
    }
   ],
   "source": [
    "#Separate the routes \n",
    "route_list = [[r1 for r1 in get_plan(routes)[0][:5]],[r2 for r2 in get_plan(routes)[0][5:]]]\n",
    "route_list"
   ]
  },
  {
   "cell_type": "markdown",
   "id": "4f12a0be",
   "metadata": {},
   "source": [
    "## 4. Route Visualization"
   ]
  },
  {
   "cell_type": "code",
   "execution_count": 19,
   "id": "1b717de4",
   "metadata": {},
   "outputs": [
    {
     "data": {
      "application/vnd.jupyter.widget-view+json": {
       "model_id": "75c926b6c34e4d41982705fa69b808d3",
       "version_major": 2,
       "version_minor": 0
      },
      "text/plain": [
       "Figure(layout=FigureLayout(height='420px'))"
      ]
     },
     "metadata": {},
     "output_type": "display_data"
    }
   ],
   "source": [
    "#Visualization using Gmaps\n",
    "fig = gmaps.figure()\n",
    "layer = []\n",
    "\n",
    "#Every routes have different colors\n",
    "color_list = [\"red\",\"blue\"]\n",
    "\n",
    "#Draw routes\n",
    "for route,color in zip(route_list,color_list):\n",
    "    for r in route:\n",
    "        layer.append(gmaps.directions.Directions(alfa.loc[r[0]][\"Location\"],\n",
    "                                                 alfa.loc[r[1]][\"Location\"],\n",
    "                                                 mode=\"car\",stroke_weight=5, stroke_color=color,\n",
    "                                                 show_markers=False))\n",
    "\n",
    "for i in range(len(layer)):\n",
    "    fig.add_layer(layer[i])    \n",
    "    \n",
    "    \n",
    "#Add a marker\n",
    "markers = gmaps.marker_layer(alfa.Location, info_box_content=alfa.index)\n",
    "fig.add_layer(markers) \n",
    "\n",
    "fig"
   ]
  },
  {
   "cell_type": "markdown",
   "id": "b6d991ad",
   "metadata": {},
   "source": [
    "The output display will be like the image below:\n",
    "\n",
    "<img src=\"https://user-images.githubusercontent.com/61647791/144784928-385aa154-cda4-4241-ac92-16c921e4d20a.png\" />\n",
    "\n",
    "\n",
    "<img src=\"https://user-images.githubusercontent.com/61647791/144784983-59f705aa-5927-44c0-b179-61c1b617f57b.png\" />\n"
   ]
  },
  {
   "cell_type": "code",
   "execution_count": 20,
   "id": "273b8a14",
   "metadata": {},
   "outputs": [],
   "source": [
    "#If you want to save the map\n",
    "from ipywidgets.embed import embed_minimal_html\n",
    "\n",
    "embed_minimal_html('alfa.html', views=[fig])"
   ]
  },
  {
   "cell_type": "markdown",
   "id": "27f99ae0",
   "metadata": {},
   "source": [
    "\n",
    "## Conclusions:"
   ]
  },
  {
   "cell_type": "markdown",
   "id": "f49c0f6e",
   "metadata": {},
   "source": [
    "1. Based on the optimization results, the total distance traveled is 21,992 km with two routes. The company can allocate two vehicles to make deliveries in one way or allocate one vehicle to make deliveries two times.\n",
    "2. Route 1 is the delivery from the Depot -> Alfamart Bugisan -> Alfamart UMY Tamantirto -> Alfamart Ring Road Selatan 2 -> Alfamart Ngebel then back to the Depot. The route color is blue.\n",
    "3. Route 2 is the delivery from the Depot -> South Alfamart Ring Road -> Alfamart Bibis then back to the Depot. The route color is red.\n",
    "4. This CVRP model only considers the capacity of products that can be delivered by the vehicle. In addition, vehicles are assumed to be homogeneous, in the sense that they have the same type and capacity of products. There are still other VRP models as shown in the following chart:\n",
    "\n",
    "<img src=\"https://www.researchgate.net/profile/Semih-Yalcindag/publication/267508322/figure/fig1/AS:295585207865357@1447484413863/Relationship-between-the-TSP-VRP-and-variants.png\" />\n"
   ]
  }
 ],
 "metadata": {
  "kernelspec": {
   "display_name": "Python 3 (ipykernel)",
   "language": "python",
   "name": "python3"
  },
  "language_info": {
   "codemirror_mode": {
    "name": "ipython",
    "version": 3
   },
   "file_extension": ".py",
   "mimetype": "text/x-python",
   "name": "python",
   "nbconvert_exporter": "python",
   "pygments_lexer": "ipython3",
   "version": "3.9.7"
  }
 },
 "nbformat": 4,
 "nbformat_minor": 5
}
