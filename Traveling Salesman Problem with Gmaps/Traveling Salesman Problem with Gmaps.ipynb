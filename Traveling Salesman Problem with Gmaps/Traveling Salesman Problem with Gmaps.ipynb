{
 "cells": [
  {
   "cell_type": "markdown",
   "id": "553156ab",
   "metadata": {},
   "source": [
    "# Traveling Salesman Problem with Gmaps\n",
    "In this session, we will solve a fictitious case of TSP using pulp for optimization and gmaps for visualization and routing. I'm using the location data of a retail company as an illustration of the implementation. Product X will be sent from Alfamidi (Depot) to six Alfamarts. It is assumed that the truck has unlimited capacity so that it can directly meet the demands of the six retailers in one go."
   ]
  },
  {
   "cell_type": "markdown",
   "id": "0229804c",
   "metadata": {},
   "source": [
    "## 1. Importing Library and Data"
   ]
  },
  {
   "cell_type": "code",
   "execution_count": 1,
   "id": "05828ae3",
   "metadata": {},
   "outputs": [],
   "source": [
    "import numpy as np\n",
    "from pulp import *\n",
    "import gmaps\n",
    "import googlemaps\n",
    "import pandas as pd"
   ]
  },
  {
   "cell_type": "code",
   "execution_count": 2,
   "id": "6e910b02",
   "metadata": {},
   "outputs": [],
   "source": [
    "#Input the API key to create a map and access the distance between two places\n",
    "#If you don't have the key, please register at https://developers.google.com/maps\n",
    "\n",
    "API_KEY = 'Input your API Key here!'\n",
    "gmaps.configure(api_key=API_KEY)\n",
    "googlemaps = googlemaps.Client(key=API_KEY)"
   ]
  },
  {
   "cell_type": "code",
   "execution_count": 3,
   "id": "7ed33b43",
   "metadata": {},
   "outputs": [
    {
     "data": {
      "text/html": [
       "<div>\n",
       "<style scoped>\n",
       "    .dataframe tbody tr th:only-of-type {\n",
       "        vertical-align: middle;\n",
       "    }\n",
       "\n",
       "    .dataframe tbody tr th {\n",
       "        vertical-align: top;\n",
       "    }\n",
       "\n",
       "    .dataframe thead th {\n",
       "        text-align: right;\n",
       "    }\n",
       "</style>\n",
       "<table border=\"1\" class=\"dataframe\">\n",
       "  <thead>\n",
       "    <tr style=\"text-align: right;\">\n",
       "      <th></th>\n",
       "      <th>Name</th>\n",
       "      <th>Location</th>\n",
       "    </tr>\n",
       "  </thead>\n",
       "  <tbody>\n",
       "    <tr>\n",
       "      <th>0</th>\n",
       "      <td>Depot</td>\n",
       "      <td>(-7.820275519559818, 110.35576478748318)</td>\n",
       "    </tr>\n",
       "    <tr>\n",
       "      <th>1</th>\n",
       "      <td>Alfamart Bugisan</td>\n",
       "      <td>(-7.818459939237757, 110.34828905480705)</td>\n",
       "    </tr>\n",
       "    <tr>\n",
       "      <th>2</th>\n",
       "      <td>Alfamart Ring Road Selatan</td>\n",
       "      <td>(-7.826882740143658, 110.3457904293808)</td>\n",
       "    </tr>\n",
       "    <tr>\n",
       "      <th>3</th>\n",
       "      <td>Alfamart Bibis</td>\n",
       "      <td>(-7.825849387004239, 110.32770847947735)</td>\n",
       "    </tr>\n",
       "    <tr>\n",
       "      <th>4</th>\n",
       "      <td>Alfamart UMY Tamantirto</td>\n",
       "      <td>(-7.814562872952285, 110.32839097560857)</td>\n",
       "    </tr>\n",
       "    <tr>\n",
       "      <th>5</th>\n",
       "      <td>Alfamart Ngebel</td>\n",
       "      <td>(-7.814073787921593, 110.3183264772633)</td>\n",
       "    </tr>\n",
       "    <tr>\n",
       "      <th>6</th>\n",
       "      <td>Alfamart Ring Road Selatan 2</td>\n",
       "      <td>(-7.809770036857429, 110.32472496772033)</td>\n",
       "    </tr>\n",
       "  </tbody>\n",
       "</table>\n",
       "</div>"
      ],
      "text/plain": [
       "                           Name                                  Location\n",
       "0                         Depot  (-7.820275519559818, 110.35576478748318)\n",
       "1              Alfamart Bugisan  (-7.818459939237757, 110.34828905480705)\n",
       "2    Alfamart Ring Road Selatan   (-7.826882740143658, 110.3457904293808)\n",
       "3                Alfamart Bibis  (-7.825849387004239, 110.32770847947735)\n",
       "4       Alfamart UMY Tamantirto  (-7.814562872952285, 110.32839097560857)\n",
       "5               Alfamart Ngebel   (-7.814073787921593, 110.3183264772633)\n",
       "6  Alfamart Ring Road Selatan 2  (-7.809770036857429, 110.32472496772033)"
      ]
     },
     "execution_count": 3,
     "metadata": {},
     "output_type": "execute_result"
    }
   ],
   "source": [
    "#I get the data manually using gmaps\n",
    "\n",
    "data = {\"Name\":[\"Depot\",\n",
    "                \"Alfamart Bugisan\",\n",
    "                \"Alfamart Ring Road Selatan\",\n",
    "                \"Alfamart Bibis\",\n",
    "                \"Alfamart UMY Tamantirto\",\n",
    "                \"Alfamart Ngebel\",\n",
    "                \"Alfamart Ring Road Selatan 2\"],\n",
    "        \"Location\":[(-7.820275519559818, 110.35576478748318),\n",
    "                    (-7.818459939237757, 110.34828905480705),\n",
    "                    (-7.826882740143658, 110.3457904293808),\n",
    "                    (-7.825849387004239, 110.32770847947735),\n",
    "                    (-7.814562872952285, 110.32839097560857),\n",
    "                    (-7.814073787921593, 110.3183264772633),\n",
    "                    (-7.809770036857429, 110.32472496772033)]}\n",
    "\n",
    "alfa = pd.DataFrame(data)\n",
    "alfa"
   ]
  },
  {
   "cell_type": "markdown",
   "id": "b231b712",
   "metadata": {},
   "source": [
    "## 2. Map Visualization"
   ]
  },
  {
   "cell_type": "code",
   "execution_count": 4,
   "id": "435c4961",
   "metadata": {},
   "outputs": [
    {
     "data": {
      "application/vnd.jupyter.widget-view+json": {
       "model_id": "c4ef5571fb154db8a89c4f422ed58176",
       "version_major": 2,
       "version_minor": 0
      },
      "text/plain": [
       "Figure(layout=FigureLayout(height='420px'))"
      ]
     },
     "metadata": {},
     "output_type": "display_data"
    }
   ],
   "source": [
    "#See the location\n",
    "\n",
    "alfa_map = gmaps.figure()\n",
    "depot = gmaps.symbol_layer([alfa.Location[0]],fill_color=\"blue\",stroke_opacity=0,\n",
    "                           scale=6,info_box_content=\"Depot\",display_info_box=True)\n",
    "\n",
    "markers = gmaps.marker_layer(alfa.Location[1:])\n",
    " \n",
    "alfa_map.add_layer(depot)    \n",
    "alfa_map.add_layer(markers)\n",
    "    \n",
    "alfa_map"
   ]
  },
  {
   "cell_type": "markdown",
   "id": "94baa898",
   "metadata": {},
   "source": [
    "The output display will be like the image below:\n",
    "\n",
    "<img src=\"https://user-images.githubusercontent.com/61647791/144628288-870c3c6a-ca83-4d02-a273-48b6cd4866be.png\" />"
   ]
  },
  {
   "cell_type": "markdown",
   "id": "39a3aa93",
   "metadata": {},
   "source": [
    "## 3. Distance Between Two Places\n",
    "The next step is to calculate the distance between two places using the direction API from gmaps. The distance used is the closest distance between two places with \"driving\" mode. The result then entered into a square matrix with the length and width according to the number of locations including the depot. Here is the code:"
   ]
  },
  {
   "cell_type": "code",
   "execution_count": 5,
   "id": "911b0828",
   "metadata": {},
   "outputs": [],
   "source": [
    "#Function to create distance matrix\n",
    "def distance_matrix(loc_column):\n",
    "    \n",
    "    distance_result = np.zeros((len(loc_column),len(loc_column)))\n",
    "    \n",
    "    for i in range(len(loc_column)):\n",
    "        for j in range(len(loc_column)):\n",
    "            \n",
    "            # menghitung jarak antar lokasi\n",
    "            api_result = googlemaps.directions(loc_column[i],\n",
    "                                               loc_column[j],\n",
    "                                               mode = 'driving')\n",
    "            \n",
    "            # memasukkan hasil perhitungan pada matriks \n",
    "            distance_result[i][j] = api_result[0]['legs'][0]['distance']['value']\n",
    "    \n",
    "    return distance_result"
   ]
  },
  {
   "cell_type": "code",
   "execution_count": 6,
   "id": "3c96fc00",
   "metadata": {},
   "outputs": [
    {
     "data": {
      "text/html": [
       "<div>\n",
       "<style scoped>\n",
       "    .dataframe tbody tr th:only-of-type {\n",
       "        vertical-align: middle;\n",
       "    }\n",
       "\n",
       "    .dataframe tbody tr th {\n",
       "        vertical-align: top;\n",
       "    }\n",
       "\n",
       "    .dataframe thead th {\n",
       "        text-align: right;\n",
       "    }\n",
       "</style>\n",
       "<table border=\"1\" class=\"dataframe\">\n",
       "  <thead>\n",
       "    <tr style=\"text-align: right;\">\n",
       "      <th>Name</th>\n",
       "      <th>Depot</th>\n",
       "      <th>Alfamart Bugisan</th>\n",
       "      <th>Alfamart Ring Road Selatan</th>\n",
       "      <th>Alfamart Bibis</th>\n",
       "      <th>Alfamart UMY Tamantirto</th>\n",
       "      <th>Alfamart Ngebel</th>\n",
       "      <th>Alfamart Ring Road Selatan 2</th>\n",
       "    </tr>\n",
       "    <tr>\n",
       "      <th>Name</th>\n",
       "      <th></th>\n",
       "      <th></th>\n",
       "      <th></th>\n",
       "      <th></th>\n",
       "      <th></th>\n",
       "      <th></th>\n",
       "      <th></th>\n",
       "    </tr>\n",
       "  </thead>\n",
       "  <tbody>\n",
       "    <tr>\n",
       "      <th>Depot</th>\n",
       "      <td>0.0</td>\n",
       "      <td>1349.0</td>\n",
       "      <td>1782.0</td>\n",
       "      <td>4264.0</td>\n",
       "      <td>4693.0</td>\n",
       "      <td>5764.0</td>\n",
       "      <td>5823.0</td>\n",
       "    </tr>\n",
       "    <tr>\n",
       "      <th>Alfamart Bugisan</th>\n",
       "      <td>1349.0</td>\n",
       "      <td>0.0</td>\n",
       "      <td>2479.0</td>\n",
       "      <td>3536.0</td>\n",
       "      <td>3002.0</td>\n",
       "      <td>5036.0</td>\n",
       "      <td>4132.0</td>\n",
       "    </tr>\n",
       "    <tr>\n",
       "      <th>Alfamart Ring Road Selatan</th>\n",
       "      <td>2518.0</td>\n",
       "      <td>1217.0</td>\n",
       "      <td>0.0</td>\n",
       "      <td>2482.0</td>\n",
       "      <td>2911.0</td>\n",
       "      <td>3982.0</td>\n",
       "      <td>4041.0</td>\n",
       "    </tr>\n",
       "    <tr>\n",
       "      <th>Alfamart Bibis</th>\n",
       "      <td>4269.0</td>\n",
       "      <td>3552.0</td>\n",
       "      <td>3155.0</td>\n",
       "      <td>0.0</td>\n",
       "      <td>1279.0</td>\n",
       "      <td>2350.0</td>\n",
       "      <td>2409.0</td>\n",
       "    </tr>\n",
       "    <tr>\n",
       "      <th>Alfamart UMY Tamantirto</th>\n",
       "      <td>4667.0</td>\n",
       "      <td>3002.0</td>\n",
       "      <td>4176.0</td>\n",
       "      <td>1280.0</td>\n",
       "      <td>0.0</td>\n",
       "      <td>1689.0</td>\n",
       "      <td>1130.0</td>\n",
       "    </tr>\n",
       "    <tr>\n",
       "      <th>Alfamart Ngebel</th>\n",
       "      <td>6246.0</td>\n",
       "      <td>5529.0</td>\n",
       "      <td>5755.0</td>\n",
       "      <td>2827.0</td>\n",
       "      <td>1695.0</td>\n",
       "      <td>0.0</td>\n",
       "      <td>3291.0</td>\n",
       "    </tr>\n",
       "    <tr>\n",
       "      <th>Alfamart Ring Road Selatan 2</th>\n",
       "      <td>5633.0</td>\n",
       "      <td>4916.0</td>\n",
       "      <td>5142.0</td>\n",
       "      <td>2245.0</td>\n",
       "      <td>1070.0</td>\n",
       "      <td>1732.0</td>\n",
       "      <td>0.0</td>\n",
       "    </tr>\n",
       "  </tbody>\n",
       "</table>\n",
       "</div>"
      ],
      "text/plain": [
       "Name                           Depot  Alfamart Bugisan  \\\n",
       "Name                                                     \n",
       "Depot                            0.0            1349.0   \n",
       "Alfamart Bugisan              1349.0               0.0   \n",
       "Alfamart Ring Road Selatan    2518.0            1217.0   \n",
       "Alfamart Bibis                4269.0            3552.0   \n",
       "Alfamart UMY Tamantirto       4667.0            3002.0   \n",
       "Alfamart Ngebel               6246.0            5529.0   \n",
       "Alfamart Ring Road Selatan 2  5633.0            4916.0   \n",
       "\n",
       "Name                          Alfamart Ring Road Selatan  Alfamart Bibis  \\\n",
       "Name                                                                       \n",
       "Depot                                             1782.0          4264.0   \n",
       "Alfamart Bugisan                                  2479.0          3536.0   \n",
       "Alfamart Ring Road Selatan                           0.0          2482.0   \n",
       "Alfamart Bibis                                    3155.0             0.0   \n",
       "Alfamart UMY Tamantirto                           4176.0          1280.0   \n",
       "Alfamart Ngebel                                   5755.0          2827.0   \n",
       "Alfamart Ring Road Selatan 2                      5142.0          2245.0   \n",
       "\n",
       "Name                          Alfamart UMY Tamantirto  Alfamart Ngebel  \\\n",
       "Name                                                                     \n",
       "Depot                                          4693.0           5764.0   \n",
       "Alfamart Bugisan                               3002.0           5036.0   \n",
       "Alfamart Ring Road Selatan                     2911.0           3982.0   \n",
       "Alfamart Bibis                                 1279.0           2350.0   \n",
       "Alfamart UMY Tamantirto                           0.0           1689.0   \n",
       "Alfamart Ngebel                                1695.0              0.0   \n",
       "Alfamart Ring Road Selatan 2                   1070.0           1732.0   \n",
       "\n",
       "Name                          Alfamart Ring Road Selatan 2  \n",
       "Name                                                        \n",
       "Depot                                               5823.0  \n",
       "Alfamart Bugisan                                    4132.0  \n",
       "Alfamart Ring Road Selatan                          4041.0  \n",
       "Alfamart Bibis                                      2409.0  \n",
       "Alfamart UMY Tamantirto                             1130.0  \n",
       "Alfamart Ngebel                                     3291.0  \n",
       "Alfamart Ring Road Selatan 2                           0.0  "
      ]
     },
     "execution_count": 6,
     "metadata": {},
     "output_type": "execute_result"
    }
   ],
   "source": [
    "#We can convert the distance matrix into Pandas DataFrame\n",
    "#Distance in meter unit\n",
    "\n",
    "distance_data = pd.DataFrame(distance_matrix(alfa.Location),columns=alfa.Name,index=alfa.Name)\n",
    "distance_data"
   ]
  },
  {
   "cell_type": "code",
   "execution_count": 16,
   "id": "03603d2b",
   "metadata": {},
   "outputs": [],
   "source": [
    "distance_data.to_csv(\"alfa_distance.csv\")"
   ]
  },
  {
   "cell_type": "markdown",
   "id": "8e461bdd",
   "metadata": {},
   "source": [
    "## 4. Model Creation\n",
    "The TSP model that I made refers to the Miller Tucker Zemlin Subtour Elimination Constraint. The MTZ method uses a dummy variable u which is an integer type as many as the number of locations. The following is the formulation of the mathematical model.\n",
    "\n",
    "\n",
    "<img src=\"https://user-images.githubusercontent.com/61647791/145667573-570d0e2e-665a-4c7e-971c-e4bed321e31d.png\" height=450, width=450/>"
   ]
  },
  {
   "cell_type": "code",
   "execution_count": 7,
   "id": "4946c500",
   "metadata": {},
   "outputs": [],
   "source": [
    "model = LpProblem(\"TSP\",LpMinimize)\n",
    "\n",
    "#decision variable\n",
    "keys = [(i,j) for i in alfa.Name for j in alfa.Name]\n",
    "x = LpVariable.dicts(\"x\",keys,cat=\"Binary\")\n",
    "\n",
    "#dummy variable for MTZ\n",
    "u = LpVariable.dicts(\"u\",(i for i in alfa.Name), lowBound=1, upBound=len(alfa.Name))"
   ]
  },
  {
   "cell_type": "code",
   "execution_count": 8,
   "id": "423e62c7",
   "metadata": {},
   "outputs": [],
   "source": [
    "#Objective Function\n",
    "model += lpSum(distance_data.loc[i,j]*x[i,j] for (i,j) in keys)"
   ]
  },
  {
   "cell_type": "code",
   "execution_count": 9,
   "id": "588b23fb",
   "metadata": {},
   "outputs": [],
   "source": [
    "#make sure the truck doesn't go around in the same location, for example from depot to depot\n",
    "#make sure the truck from location i go to one of the unvisited locations \n",
    "#make sure location j can only be visited by trucks from one location\n",
    "\n",
    "for i in alfa.Name:\n",
    "    model += x[i,i]==0\n",
    "    model += lpSum(x[i,j] for j in alfa.Name) == 1\n",
    "    \n",
    "for j in alfa.Name:\n",
    "    model += x[j,j] == 0\n",
    "    model += lpSum(x[i,j] for i in alfa.Name) == 1\n",
    "\n",
    "#MTZ constrain\n",
    "#make sure i is not equal to j and does not include depot\n",
    "for i in alfa.Name:\n",
    "    for j in alfa.Name:\n",
    "        if i!=j and (i!=\"Depot\" and j!=\"Depot\"):\n",
    "            model += u[j]>=u[i]+1 -(len(alfa.Name))*(1-x[i,j])"
   ]
  },
  {
   "cell_type": "code",
   "execution_count": 10,
   "id": "3f69c8ab",
   "metadata": {},
   "outputs": [],
   "source": [
    "#Function to find a subtour and routing result\n",
    "\n",
    "def get_plan(r0):\n",
    "    r=copy.copy(r0)\n",
    "    route = []\n",
    "    while len(r) != 0:\n",
    "        plan = [r[0]]\n",
    "        del (r[0])\n",
    "        l = 0\n",
    "        while len(plan) > l:\n",
    "            l = len(plan)\n",
    "            for i, j in enumerate(r):\n",
    "                if plan[-1][1] == j[0]:\n",
    "                    plan.append(j)\n",
    "                    del (r[i])\n",
    "        route.append(plan)\n",
    "    return(route)"
   ]
  },
  {
   "cell_type": "code",
   "execution_count": 11,
   "id": "7de2bd09",
   "metadata": {},
   "outputs": [
    {
     "name": "stdout",
     "output_type": "stream",
     "text": [
      "-----------------\n",
      "1 Optimal 14451.0\n"
     ]
    }
   ],
   "source": [
    "import copy\n",
    "\n",
    "status=model.solve()\n",
    "\n",
    "print(\"-----------------\")\n",
    "print(status,LpStatus[status],value(model.objective))\n",
    "route=[(i,j) for i,j in keys if value(x[i,j])==1]"
   ]
  },
  {
   "cell_type": "code",
   "execution_count": 12,
   "id": "72c0d9e3",
   "metadata": {},
   "outputs": [
    {
     "name": "stdout",
     "output_type": "stream",
     "text": [
      "[[('Depot', 'Alfamart Ring Road Selatan'), ('Alfamart Ring Road Selatan', 'Alfamart Bibis'), ('Alfamart Bibis', 'Alfamart Ring Road Selatan 2'), ('Alfamart Ring Road Selatan 2', 'Alfamart Ngebel'), ('Alfamart Ngebel', 'Alfamart UMY Tamantirto'), ('Alfamart UMY Tamantirto', 'Alfamart Bugisan'), ('Alfamart Bugisan', 'Depot')]]\n"
     ]
    }
   ],
   "source": [
    "print(get_plan(route))"
   ]
  },
  {
   "cell_type": "markdown",
   "id": "4f12a0be",
   "metadata": {},
   "source": [
    "## 4. Route Visualization"
   ]
  },
  {
   "cell_type": "code",
   "execution_count": 15,
   "id": "1b717de4",
   "metadata": {},
   "outputs": [
    {
     "data": {
      "application/vnd.jupyter.widget-view+json": {
       "model_id": "f9396dfc6422499190fad555e71659bb",
       "version_major": 2,
       "version_minor": 0
      },
      "text/plain": [
       "Figure(layout=FigureLayout(height='420px'))"
      ]
     },
     "metadata": {},
     "output_type": "display_data"
    }
   ],
   "source": [
    "# visualization : plotting on google maps\n",
    "alfa_index = alfa.set_index(\"Name\")\n",
    "\n",
    "fig = gmaps.figure()\n",
    "layer = []\n",
    "\n",
    "color_list = [\"#b0bf1a\",\"#800869\",\"#6897bb\",\"#921515\",\"#32f0ff\",\"#2aa63d\",\"#0e2f44\"]\n",
    "\n",
    "#Draw a route\n",
    "for r,c in zip(route,color_list):\n",
    "    layer.append(gmaps.directions.Directions(alfa_index.loc[r[0]][\"Location\"],\n",
    "                                             alfa_index.loc[r[1]][\"Location\"],\n",
    "                                             mode=\"car\",stroke_weight=5, stroke_color=c,\n",
    "                                             show_markers=False))\n",
    "\n",
    "for i in range(len(layer)):\n",
    "    fig.add_layer(layer[i])    \n",
    "    \n",
    "#Add a marker\n",
    "route_plan = {n[0]:i for n,i in zip(get_plan(route)[0],range(0,len(route)))}\n",
    "alfa_index[\"Destination\"] = alfa_index.index.map(route_plan)\n",
    "\n",
    "dict_plan = [{\"Name\":n,\"Destination\":i} for n,i in zip(alfa_index.index, alfa_index.Destination)]\n",
    "info_box_template = \"\"\"\n",
    "                        <dl>\n",
    "                        <dt>Location</dt><dd>{Name}</dd>                    \n",
    "                        <dt>Destination number</dt><dd>{Destination}</dd>\n",
    "                        </dl>\n",
    "                    \"\"\"\n",
    "info = [info_box_template.format(**r)for r in dict_plan]\n",
    "\n",
    "\n",
    "markers = gmaps.marker_layer(alfa_index.Location, info_box_content=info)\n",
    "        \n",
    "\n",
    "\n",
    "fig.add_layer(markers)\n",
    "    \n",
    "fig"
   ]
  },
  {
   "cell_type": "markdown",
   "id": "b6d991ad",
   "metadata": {},
   "source": [
    "The output display will be like the image below:\n",
    "\n",
    "<img src=\"https://user-images.githubusercontent.com/61647791/147240808-1dcf6839-abe7-46c6-9ba1-3da4443e5664.png\" />"
   ]
  },
  {
   "cell_type": "code",
   "execution_count": 117,
   "id": "273b8a14",
   "metadata": {},
   "outputs": [],
   "source": [
    "#If you want to save map\n",
    "from ipywidgets.embed import embed_minimal_html\n",
    "\n",
    "embed_minimal_html('alfa.html', views=[fig])"
   ]
  },
  {
   "cell_type": "markdown",
   "id": "27f99ae0",
   "metadata": {},
   "source": [
    "## Conclusion"
   ]
  },
  {
   "cell_type": "markdown",
   "id": "f49c0f6e",
   "metadata": {},
   "source": [
    "1. Based on the optimization results, the total minimum distance traveled to distribute products to six depots is 14,451 km.\n",
    "2. The total distance is quite large due to road conditions in the form of a *ring road* so that trucks need to rotate to change locations.\n",
    "3. The order of the route chosen is Depot -> South Alfamart Ring Road -> Alfamart Bibis -> South Alfamart Ring Road 2 -> Alfamart Ngebel -> Alfamart UMY Tamantirto -> Alfamart Bugisan.\n",
    "4. Even though from the map, Alfamart Bibis and Alfamart UMY Tamantirto look quite close, the two are separated by a ring road so that Alfamart UMY Tamantirto becomes the second last destination before heading to Alfamart Bugisan.\n",
    "5. This TSP model assumes that trucks can meet all retailer's demands in one go without going back and forth. Whereas in real conditions, trucks have a limited capacity. In addition, the demands of one retailer may differ from one another. The Vehicle Routing Problem model is the solution to this problem.\n"
   ]
  }
 ],
 "metadata": {
  "kernelspec": {
   "display_name": "Python 3 (ipykernel)",
   "language": "python",
   "name": "python3"
  },
  "language_info": {
   "codemirror_mode": {
    "name": "ipython",
    "version": 3
   },
   "file_extension": ".py",
   "mimetype": "text/x-python",
   "name": "python",
   "nbconvert_exporter": "python",
   "pygments_lexer": "ipython3",
   "version": "3.9.7"
  }
 },
 "nbformat": 4,
 "nbformat_minor": 5
}
