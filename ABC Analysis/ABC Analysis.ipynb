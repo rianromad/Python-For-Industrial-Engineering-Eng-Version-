{
 "cells": [
  {
   "cell_type": "markdown",
   "metadata": {},
   "source": [
    "# ABC Analysis\n",
    "According to (Heizer, Render & Munson, n.d.) ABC analysis is a method to classify many products into three groups (A, B, dan C) based on *annual dollar volume* which is the multiply of annual demand with price per unit. Below is an explanation of each group in the ABC analysis:\n",
    "\n",
    "**1. Class A**\n",
    "\n",
    "This class has the highest annual dollar volume with a 15% of all unique products. It also has a 70-80% annual dollar volume cumulative percentage from all products.\n",
    "    \n",
    "    \n",
    "**2. Class B**\n",
    "\n",
    "This class has a medium annual dollar volume with a 30% of all unique products. It also has a 15-25% annual dollar volume cumulative percentage from all products.\n",
    "\n",
    "\n",
    "**3. Class C**\n",
    "\n",
    "This class has a low annual dollar volume with a 55% of all unique products. It also has a 5% annual dollar volume cumulative percentage from all products.\n",
    "\n",
    "<img src=\"https://user-images.githubusercontent.com/61647791/128857660-f26245cf-20d5-44e4-94e8-60a3f156b343.PNG\" />\n",
    "\n",
    "*Source: Operations Management Sustainability and Supply Chain Management (12th Edition) by Jay Heizer, Barry Render, Chuck Munson*\n",
    "\n",
    "In this session, we will study how to classify a product based on total sales and revenue using ABC analysis. The Data that we used is from Udemy online course with the title: **RA: Data Science and Supply Chain Analytics. A-Z with Python. Haytham Omar, Consultant-Supply chain**  "
   ]
  },
  {
   "cell_type": "code",
   "execution_count": 1,
   "metadata": {},
   "outputs": [],
   "source": [
    "#importing library\n",
    "import pandas as pd\n",
    "import numpy as np"
   ]
  },
  {
   "cell_type": "markdown",
   "metadata": {},
   "source": [
    "Below is the data containing a product that sold in a retail store with average annual demand and revenue. Assume that the \"total_revenue\" column is an annual dollar volume."
   ]
  },
  {
   "cell_type": "code",
   "execution_count": 2,
   "metadata": {},
   "outputs": [
    {
     "data": {
      "text/html": [
       "<div>\n",
       "<style scoped>\n",
       "    .dataframe tbody tr th:only-of-type {\n",
       "        vertical-align: middle;\n",
       "    }\n",
       "\n",
       "    .dataframe tbody tr th {\n",
       "        vertical-align: top;\n",
       "    }\n",
       "\n",
       "    .dataframe thead th {\n",
       "        text-align: right;\n",
       "    }\n",
       "</style>\n",
       "<table border=\"1\" class=\"dataframe\">\n",
       "  <thead>\n",
       "    <tr style=\"text-align: right;\">\n",
       "      <th></th>\n",
       "      <th>Description</th>\n",
       "      <th>total_sales</th>\n",
       "      <th>total_revenue</th>\n",
       "    </tr>\n",
       "  </thead>\n",
       "  <tbody>\n",
       "    <tr>\n",
       "      <th>0</th>\n",
       "      <td>DOORMAT UNION JACK GUNS AND ROSES</td>\n",
       "      <td>167</td>\n",
       "      <td>1071.25</td>\n",
       "    </tr>\n",
       "    <tr>\n",
       "      <th>1</th>\n",
       "      <td>3 STRIPEY MICE FELTCRAFT</td>\n",
       "      <td>662</td>\n",
       "      <td>1241.10</td>\n",
       "    </tr>\n",
       "    <tr>\n",
       "      <th>2</th>\n",
       "      <td>4 PURPLE FLOCK DINNER CANDLES</td>\n",
       "      <td>324</td>\n",
       "      <td>495.16</td>\n",
       "    </tr>\n",
       "    <tr>\n",
       "      <th>3</th>\n",
       "      <td>50'S CHRISTMAS GIFT BAG LARGE</td>\n",
       "      <td>1885</td>\n",
       "      <td>2272.25</td>\n",
       "    </tr>\n",
       "    <tr>\n",
       "      <th>4</th>\n",
       "      <td>ANIMAL STICKERS</td>\n",
       "      <td>385</td>\n",
       "      <td>80.85</td>\n",
       "    </tr>\n",
       "  </tbody>\n",
       "</table>\n",
       "</div>"
      ],
      "text/plain": [
       "                           Description  total_sales  total_revenue\n",
       "0    DOORMAT UNION JACK GUNS AND ROSES          167        1071.25\n",
       "1             3 STRIPEY MICE FELTCRAFT          662        1241.10\n",
       "2        4 PURPLE FLOCK DINNER CANDLES          324         495.16\n",
       "3        50'S CHRISTMAS GIFT BAG LARGE         1885        2272.25\n",
       "4                      ANIMAL STICKERS          385          80.85"
      ]
     },
     "execution_count": 2,
     "metadata": {},
     "output_type": "execute_result"
    }
   ],
   "source": [
    "#load dataset using pandas\n",
    "retail = pd.read_csv(\"retail.csv\")\n",
    "retail.head()"
   ]
  },
  {
   "cell_type": "markdown",
   "metadata": {},
   "source": [
    "### 1. Calculate Cumulative Percentage of Annual Dollar Volume \n",
    "Before we do that, let's sort the data according to the total_revenue column from higher to lower."
   ]
  },
  {
   "cell_type": "code",
   "execution_count": 3,
   "metadata": {},
   "outputs": [],
   "source": [
    "#ensure that there are no duplicate value (unique product)\n",
    "retail.drop_duplicates(inplace=True)\n",
    "\n",
    "#sort the data according to the total_revenue column \n",
    "retail.sort_values(\"total_revenue\", ascending=False, inplace=True)"
   ]
  },
  {
   "cell_type": "code",
   "execution_count": 4,
   "metadata": {},
   "outputs": [
    {
     "data": {
      "text/html": [
       "<div>\n",
       "<style scoped>\n",
       "    .dataframe tbody tr th:only-of-type {\n",
       "        vertical-align: middle;\n",
       "    }\n",
       "\n",
       "    .dataframe tbody tr th {\n",
       "        vertical-align: top;\n",
       "    }\n",
       "\n",
       "    .dataframe thead th {\n",
       "        text-align: right;\n",
       "    }\n",
       "</style>\n",
       "<table border=\"1\" class=\"dataframe\">\n",
       "  <thead>\n",
       "    <tr style=\"text-align: right;\">\n",
       "      <th></th>\n",
       "      <th>Description</th>\n",
       "      <th>total_sales</th>\n",
       "      <th>total_revenue</th>\n",
       "    </tr>\n",
       "  </thead>\n",
       "  <tbody>\n",
       "    <tr>\n",
       "      <th>3769</th>\n",
       "      <td>REGENCY CAKESTAND 3 TIER</td>\n",
       "      <td>24139</td>\n",
       "      <td>277656.25</td>\n",
       "    </tr>\n",
       "    <tr>\n",
       "      <th>5047</th>\n",
       "      <td>WHITE HANGING HEART T-LIGHT HOLDER</td>\n",
       "      <td>91757</td>\n",
       "      <td>247048.01</td>\n",
       "    </tr>\n",
       "    <tr>\n",
       "      <th>3129</th>\n",
       "      <td>PAPER CRAFT , LITTLE BIRDIE</td>\n",
       "      <td>80995</td>\n",
       "      <td>168469.60</td>\n",
       "    </tr>\n",
       "    <tr>\n",
       "      <th>2860</th>\n",
       "      <td>Manual</td>\n",
       "      <td>9391</td>\n",
       "      <td>151777.67</td>\n",
       "    </tr>\n",
       "    <tr>\n",
       "      <th>2392</th>\n",
       "      <td>JUMBO BAG RED RETROSPOT</td>\n",
       "      <td>74224</td>\n",
       "      <td>134307.44</td>\n",
       "    </tr>\n",
       "  </tbody>\n",
       "</table>\n",
       "</div>"
      ],
      "text/plain": [
       "                             Description  total_sales  total_revenue\n",
       "3769            REGENCY CAKESTAND 3 TIER        24139      277656.25\n",
       "5047  WHITE HANGING HEART T-LIGHT HOLDER        91757      247048.01\n",
       "3129         PAPER CRAFT , LITTLE BIRDIE        80995      168469.60\n",
       "2860                              Manual         9391      151777.67\n",
       "2392             JUMBO BAG RED RETROSPOT        74224      134307.44"
      ]
     },
     "execution_count": 4,
     "metadata": {},
     "output_type": "execute_result"
    }
   ],
   "source": [
    "retail.head()"
   ]
  },
  {
   "cell_type": "code",
   "execution_count": 5,
   "metadata": {},
   "outputs": [
    {
     "data": {
      "text/html": [
       "<div>\n",
       "<style scoped>\n",
       "    .dataframe tbody tr th:only-of-type {\n",
       "        vertical-align: middle;\n",
       "    }\n",
       "\n",
       "    .dataframe tbody tr th {\n",
       "        vertical-align: top;\n",
       "    }\n",
       "\n",
       "    .dataframe thead th {\n",
       "        text-align: right;\n",
       "    }\n",
       "</style>\n",
       "<table border=\"1\" class=\"dataframe\">\n",
       "  <thead>\n",
       "    <tr style=\"text-align: right;\">\n",
       "      <th></th>\n",
       "      <th>Description</th>\n",
       "      <th>total_sales</th>\n",
       "      <th>total_revenue</th>\n",
       "      <th>percentage_revenue</th>\n",
       "      <th>cum_percentage_revenue</th>\n",
       "    </tr>\n",
       "  </thead>\n",
       "  <tbody>\n",
       "    <tr>\n",
       "      <th>3769</th>\n",
       "      <td>REGENCY CAKESTAND 3 TIER</td>\n",
       "      <td>24139</td>\n",
       "      <td>277656.25</td>\n",
       "      <td>1.598040</td>\n",
       "      <td>1.598040</td>\n",
       "    </tr>\n",
       "    <tr>\n",
       "      <th>5047</th>\n",
       "      <td>WHITE HANGING HEART T-LIGHT HOLDER</td>\n",
       "      <td>91757</td>\n",
       "      <td>247048.01</td>\n",
       "      <td>1.421875</td>\n",
       "      <td>3.019915</td>\n",
       "    </tr>\n",
       "    <tr>\n",
       "      <th>3129</th>\n",
       "      <td>PAPER CRAFT , LITTLE BIRDIE</td>\n",
       "      <td>80995</td>\n",
       "      <td>168469.60</td>\n",
       "      <td>0.969620</td>\n",
       "      <td>3.989535</td>\n",
       "    </tr>\n",
       "    <tr>\n",
       "      <th>2860</th>\n",
       "      <td>Manual</td>\n",
       "      <td>9391</td>\n",
       "      <td>151777.67</td>\n",
       "      <td>0.873550</td>\n",
       "      <td>4.863085</td>\n",
       "    </tr>\n",
       "    <tr>\n",
       "      <th>2392</th>\n",
       "      <td>JUMBO BAG RED RETROSPOT</td>\n",
       "      <td>74224</td>\n",
       "      <td>134307.44</td>\n",
       "      <td>0.773001</td>\n",
       "      <td>5.636086</td>\n",
       "    </tr>\n",
       "  </tbody>\n",
       "</table>\n",
       "</div>"
      ],
      "text/plain": [
       "                             Description  total_sales  total_revenue  \\\n",
       "3769            REGENCY CAKESTAND 3 TIER        24139      277656.25   \n",
       "5047  WHITE HANGING HEART T-LIGHT HOLDER        91757      247048.01   \n",
       "3129         PAPER CRAFT , LITTLE BIRDIE        80995      168469.60   \n",
       "2860                              Manual         9391      151777.67   \n",
       "2392             JUMBO BAG RED RETROSPOT        74224      134307.44   \n",
       "\n",
       "      percentage_revenue  cum_percentage_revenue  \n",
       "3769            1.598040                1.598040  \n",
       "5047            1.421875                3.019915  \n",
       "3129            0.969620                3.989535  \n",
       "2860            0.873550                4.863085  \n",
       "2392            0.773001                5.636086  "
      ]
     },
     "execution_count": 5,
     "metadata": {},
     "output_type": "execute_result"
    }
   ],
   "source": [
    "#calculate the percentage of revenue\n",
    "retail[\"percentage_revenue\"] = retail[\"total_revenue\"]/retail[\"total_revenue\"].sum() * 100\n",
    "\n",
    "#calculate the cumulative percentage of revenue using .cumsum() \n",
    "retail[\"cum_percentage_revenue\"] = retail[\"percentage_revenue\"].cumsum()\n",
    "\n",
    "retail.head()"
   ]
  },
  {
   "cell_type": "markdown",
   "metadata": {},
   "source": [
    "### 2. Grouping Data According ABC Class\n",
    "Next, we want to classify the products according to the criteria that I mentioned before. I will create a function to classify the products:\n",
    "- Class A with a cumulative percentage from 0 to 80%\n",
    "- Class B with a cumulative percentage from 80 to 95%\n",
    "- Class C with a cumulative percentage from 95 to 100%"
   ]
  },
  {
   "cell_type": "code",
   "execution_count": 6,
   "metadata": {},
   "outputs": [],
   "source": [
    "#create a classify function first\n",
    "def abc(x):\n",
    "    if 0<x<=80:\n",
    "        cat=\"A\"\n",
    "        \n",
    "    elif 80<x<=95:\n",
    "        cat=\"B\"\n",
    "        \n",
    "    else:\n",
    "        cat=\"C\"\n",
    "        \n",
    "    return cat"
   ]
  },
  {
   "cell_type": "code",
   "execution_count": 7,
   "metadata": {},
   "outputs": [
    {
     "data": {
      "text/html": [
       "<div>\n",
       "<style scoped>\n",
       "    .dataframe tbody tr th:only-of-type {\n",
       "        vertical-align: middle;\n",
       "    }\n",
       "\n",
       "    .dataframe tbody tr th {\n",
       "        vertical-align: top;\n",
       "    }\n",
       "\n",
       "    .dataframe thead th {\n",
       "        text-align: right;\n",
       "    }\n",
       "</style>\n",
       "<table border=\"1\" class=\"dataframe\">\n",
       "  <thead>\n",
       "    <tr style=\"text-align: right;\">\n",
       "      <th></th>\n",
       "      <th>Description</th>\n",
       "      <th>total_sales</th>\n",
       "      <th>total_revenue</th>\n",
       "      <th>percentage_revenue</th>\n",
       "      <th>cum_percentage_revenue</th>\n",
       "      <th>category</th>\n",
       "    </tr>\n",
       "  </thead>\n",
       "  <tbody>\n",
       "    <tr>\n",
       "      <th>3769</th>\n",
       "      <td>REGENCY CAKESTAND 3 TIER</td>\n",
       "      <td>24139</td>\n",
       "      <td>277656.25</td>\n",
       "      <td>1.598040</td>\n",
       "      <td>1.598040</td>\n",
       "      <td>A</td>\n",
       "    </tr>\n",
       "    <tr>\n",
       "      <th>5047</th>\n",
       "      <td>WHITE HANGING HEART T-LIGHT HOLDER</td>\n",
       "      <td>91757</td>\n",
       "      <td>247048.01</td>\n",
       "      <td>1.421875</td>\n",
       "      <td>3.019915</td>\n",
       "      <td>A</td>\n",
       "    </tr>\n",
       "    <tr>\n",
       "      <th>3129</th>\n",
       "      <td>PAPER CRAFT , LITTLE BIRDIE</td>\n",
       "      <td>80995</td>\n",
       "      <td>168469.60</td>\n",
       "      <td>0.969620</td>\n",
       "      <td>3.989535</td>\n",
       "      <td>A</td>\n",
       "    </tr>\n",
       "    <tr>\n",
       "      <th>2860</th>\n",
       "      <td>Manual</td>\n",
       "      <td>9391</td>\n",
       "      <td>151777.67</td>\n",
       "      <td>0.873550</td>\n",
       "      <td>4.863085</td>\n",
       "      <td>A</td>\n",
       "    </tr>\n",
       "    <tr>\n",
       "      <th>2392</th>\n",
       "      <td>JUMBO BAG RED RETROSPOT</td>\n",
       "      <td>74224</td>\n",
       "      <td>134307.44</td>\n",
       "      <td>0.773001</td>\n",
       "      <td>5.636086</td>\n",
       "      <td>A</td>\n",
       "    </tr>\n",
       "  </tbody>\n",
       "</table>\n",
       "</div>"
      ],
      "text/plain": [
       "                             Description  total_sales  total_revenue  \\\n",
       "3769            REGENCY CAKESTAND 3 TIER        24139      277656.25   \n",
       "5047  WHITE HANGING HEART T-LIGHT HOLDER        91757      247048.01   \n",
       "3129         PAPER CRAFT , LITTLE BIRDIE        80995      168469.60   \n",
       "2860                              Manual         9391      151777.67   \n",
       "2392             JUMBO BAG RED RETROSPOT        74224      134307.44   \n",
       "\n",
       "      percentage_revenue  cum_percentage_revenue category  \n",
       "3769            1.598040                1.598040        A  \n",
       "5047            1.421875                3.019915        A  \n",
       "3129            0.969620                3.989535        A  \n",
       "2860            0.873550                4.863085        A  \n",
       "2392            0.773001                5.636086        A  "
      ]
     },
     "execution_count": 7,
     "metadata": {},
     "output_type": "execute_result"
    }
   ],
   "source": [
    "#Now we can apply the function above to percentage_cum_revenue  using map() function from pandas\n",
    "#Create a new column, named category\n",
    "\n",
    "retail[\"category\"] = retail[\"cum_percentage_revenue\"].apply(abc)\n",
    "\n",
    "retail.head()"
   ]
  },
  {
   "cell_type": "markdown",
   "metadata": {},
   "source": [
    "We can see how many products in each category"
   ]
  },
  {
   "cell_type": "code",
   "execution_count": 8,
   "metadata": {},
   "outputs": [
    {
     "data": {
      "text/plain": [
       "C    2784\n",
       "B    1362\n",
       "A    1137\n",
       "Name: category, dtype: int64"
      ]
     },
     "execution_count": 8,
     "metadata": {},
     "output_type": "execute_result"
    }
   ],
   "source": [
    "retail[\"category\"].value_counts()"
   ]
  },
  {
   "cell_type": "code",
   "execution_count": 9,
   "metadata": {},
   "outputs": [
    {
     "data": {
      "text/plain": [
       "C    52.697331\n",
       "B    25.780806\n",
       "A    21.521863\n",
       "Name: category, dtype: float64"
      ]
     },
     "execution_count": 9,
     "metadata": {},
     "output_type": "execute_result"
    }
   ],
   "source": [
    "retail[\"category\"].value_counts()/retail[\"category\"].value_counts().sum() * 100"
   ]
  },
  {
   "cell_type": "markdown",
   "metadata": {},
   "source": [
    "We also can visualize the result using Matplotlib or Seaborn library"
   ]
  },
  {
   "cell_type": "code",
   "execution_count": 11,
   "metadata": {},
   "outputs": [
    {
     "data": {
      "image/png": "[encoded data removed]",
      "text/plain": [
       "<Figure size 432x288 with 1 Axes>"
      ]
     },
     "metadata": {
      "needs_background": "light"
     },
     "output_type": "display_data"
    }
   ],
   "source": [
    "import seaborn as sns\n",
    "import matplotlib.pyplot as plt\n",
    "\n",
    "sns.countplot(data =retail, x=\"category\")\n",
    "plt.title(\"Distribution of Products by Category\")\n",
    "plt.show()"
   ]
  },
  {
   "cell_type": "code",
   "execution_count": 12,
   "metadata": {},
   "outputs": [
    {
     "data": {
      "image/png": "[encoded data removed]",
      "text/plain": [
       "<Figure size 432x288 with 1 Axes>"
      ]
     },
     "metadata": {
      "needs_background": "light"
     },
     "output_type": "display_data"
    }
   ],
   "source": [
    "sns.barplot(x=\"category\",y=\"total_revenue\",data=retail)\n",
    "plt.title(\"Revenue Accumulation in each Category\")\n",
    "plt.show()"
   ]
  },
  {
   "cell_type": "markdown",
   "metadata": {},
   "source": [
    "From the visualization above, category A gives the highest revenues although the number of products is fewest. Therefore, we should give priority to products in category A over the other categories."
   ]
  }
 ],
 "metadata": {
  "kernelspec": {
   "display_name": "Python 3 (ipykernel)",
   "language": "python",
   "name": "python3"
  },
  "language_info": {
   "codemirror_mode": {
    "name": "ipython",
    "version": 3
   },
   "file_extension": ".py",
   "mimetype": "text/x-python",
   "name": "python",
   "nbconvert_exporter": "python",
   "pygments_lexer": "ipython3",
   "version": "3.9.7"
  }
 },
 "nbformat": 4,
 "nbformat_minor": 4
}
