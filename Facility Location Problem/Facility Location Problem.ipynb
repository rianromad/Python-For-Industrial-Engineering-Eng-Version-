{
 "cells": [
  {
   "cell_type": "markdown",
   "metadata": {},
   "source": [
    "# Facility Location Problem\n",
    "In this session, we will solve the facility location problem. The purpose of this problem is to minimize installation costs and demand allocation from distribution centers to customers (stores). The data used comes from the Optimization Mathematics course that I took when I was in college with Mr. Setyo Tri Windras Mara. I will complete this model using the help of the PuLP library.\n",
    "\n",
    "**Problem:**\n",
    "\n",
    "A retail company plans to penetrate the market to Kulonprogo Regency because of the potential for NYIA Airport. The company intends to open ten stores in the Kulonprogo area and they are currently evaluating three potential locations to build a distribution center."
   ]
  },
  {
   "cell_type": "markdown",
   "metadata": {},
   "source": [
    "### 1. Importing Library"
   ]
  },
  {
   "cell_type": "code",
   "execution_count": 1,
   "metadata": {},
   "outputs": [],
   "source": [
    "import pandas as pd\n",
    "import numpy as np\n",
    "from pulp import *"
   ]
  },
  {
   "cell_type": "markdown",
   "metadata": {},
   "source": [
    "### 2.Importing Data\n",
    "The data used has an excel file type with 3 sheets. Therefore we use pd.read_excel to import the data. I added some parameters such as \"headers\" and \"usecols\" as well as transpose (.T) on the *Cost* sheet for easy data access."
   ]
  },
  {
   "cell_type": "code",
   "execution_count": 2,
   "metadata": {},
   "outputs": [],
   "source": [
    "dist_center = pd.read_excel(\"Facility Location Problem.xlsx\", sheet_name=\"Distribution centers\").set_index(\"Locations\")\n",
    "customers = pd.read_excel(\"Facility Location Problem.xlsx\", sheet_name=\"Customers\").set_index(\"Customers\")\n",
    "costs = pd.read_excel(\"Facility Location Problem.xlsx\", sheet_name=\"Costs\", header=1, usecols=range(1,12)).rename(columns={\"Unnamed: 1\":\"Sites\"}).set_index(\"Sites\").T"
   ]
  },
  {
   "cell_type": "markdown",
   "metadata": {},
   "source": [
    "#### a. Distribution Center\n",
    "This table lists the costs required to construct the distribution center as well as the storage capacity of the facility."
   ]
  },
  {
   "cell_type": "code",
   "execution_count": 3,
   "metadata": {},
   "outputs": [
    {
     "data": {
      "text/html": [
       "<div>\n",
       "<style scoped>\n",
       "    .dataframe tbody tr th:only-of-type {\n",
       "        vertical-align: middle;\n",
       "    }\n",
       "\n",
       "    .dataframe tbody tr th {\n",
       "        vertical-align: top;\n",
       "    }\n",
       "\n",
       "    .dataframe thead th {\n",
       "        text-align: right;\n",
       "    }\n",
       "</style>\n",
       "<table border=\"1\" class=\"dataframe\">\n",
       "  <thead>\n",
       "    <tr style=\"text-align: right;\">\n",
       "      <th></th>\n",
       "      <th>Cost</th>\n",
       "      <th>Capacity</th>\n",
       "    </tr>\n",
       "    <tr>\n",
       "      <th>Locations</th>\n",
       "      <th></th>\n",
       "      <th></th>\n",
       "    </tr>\n",
       "  </thead>\n",
       "  <tbody>\n",
       "    <tr>\n",
       "      <th>1</th>\n",
       "      <td>300</td>\n",
       "      <td>250</td>\n",
       "    </tr>\n",
       "    <tr>\n",
       "      <th>2</th>\n",
       "      <td>200</td>\n",
       "      <td>150</td>\n",
       "    </tr>\n",
       "    <tr>\n",
       "      <th>3</th>\n",
       "      <td>500</td>\n",
       "      <td>300</td>\n",
       "    </tr>\n",
       "  </tbody>\n",
       "</table>\n",
       "</div>"
      ],
      "text/plain": [
       "           Cost  Capacity\n",
       "Locations                \n",
       "1           300       250\n",
       "2           200       150\n",
       "3           500       300"
      ]
     },
     "execution_count": 3,
     "metadata": {},
     "output_type": "execute_result"
    }
   ],
   "source": [
    "dist_center"
   ]
  },
  {
   "cell_type": "markdown",
   "metadata": {},
   "source": [
    "#### b. Customers\n",
    "This table contains ten stores that will be opened in Kulonprogo Regency and their demand per period."
   ]
  },
  {
   "cell_type": "code",
   "execution_count": 4,
   "metadata": {},
   "outputs": [
    {
     "data": {
      "text/html": [
       "<div>\n",
       "<style scoped>\n",
       "    .dataframe tbody tr th:only-of-type {\n",
       "        vertical-align: middle;\n",
       "    }\n",
       "\n",
       "    .dataframe tbody tr th {\n",
       "        vertical-align: top;\n",
       "    }\n",
       "\n",
       "    .dataframe thead th {\n",
       "        text-align: right;\n",
       "    }\n",
       "</style>\n",
       "<table border=\"1\" class=\"dataframe\">\n",
       "  <thead>\n",
       "    <tr style=\"text-align: right;\">\n",
       "      <th></th>\n",
       "      <th>Demand per Periode</th>\n",
       "    </tr>\n",
       "    <tr>\n",
       "      <th>Customers</th>\n",
       "      <th></th>\n",
       "    </tr>\n",
       "  </thead>\n",
       "  <tbody>\n",
       "    <tr>\n",
       "      <th>1</th>\n",
       "      <td>30</td>\n",
       "    </tr>\n",
       "    <tr>\n",
       "      <th>2</th>\n",
       "      <td>20</td>\n",
       "    </tr>\n",
       "    <tr>\n",
       "      <th>3</th>\n",
       "      <td>40</td>\n",
       "    </tr>\n",
       "    <tr>\n",
       "      <th>4</th>\n",
       "      <td>50</td>\n",
       "    </tr>\n",
       "    <tr>\n",
       "      <th>5</th>\n",
       "      <td>40</td>\n",
       "    </tr>\n",
       "    <tr>\n",
       "      <th>6</th>\n",
       "      <td>60</td>\n",
       "    </tr>\n",
       "    <tr>\n",
       "      <th>7</th>\n",
       "      <td>30</td>\n",
       "    </tr>\n",
       "    <tr>\n",
       "      <th>8</th>\n",
       "      <td>50</td>\n",
       "    </tr>\n",
       "    <tr>\n",
       "      <th>9</th>\n",
       "      <td>40</td>\n",
       "    </tr>\n",
       "    <tr>\n",
       "      <th>10</th>\n",
       "      <td>40</td>\n",
       "    </tr>\n",
       "  </tbody>\n",
       "</table>\n",
       "</div>"
      ],
      "text/plain": [
       "           Demand per Periode\n",
       "Customers                    \n",
       "1                          30\n",
       "2                          20\n",
       "3                          40\n",
       "4                          50\n",
       "5                          40\n",
       "6                          60\n",
       "7                          30\n",
       "8                          50\n",
       "9                          40\n",
       "10                         40"
      ]
     },
     "execution_count": 4,
     "metadata": {},
     "output_type": "execute_result"
    }
   ],
   "source": [
    "customers"
   ]
  },
  {
   "cell_type": "markdown",
   "metadata": {},
   "source": [
    "#### c. Costs\n",
    "This table contains the costs required to distribute goods from the distribution center to the stores."
   ]
  },
  {
   "cell_type": "code",
   "execution_count": 5,
   "metadata": {},
   "outputs": [
    {
     "data": {
      "text/html": [
       "<div>\n",
       "<style scoped>\n",
       "    .dataframe tbody tr th:only-of-type {\n",
       "        vertical-align: middle;\n",
       "    }\n",
       "\n",
       "    .dataframe tbody tr th {\n",
       "        vertical-align: top;\n",
       "    }\n",
       "\n",
       "    .dataframe thead th {\n",
       "        text-align: right;\n",
       "    }\n",
       "</style>\n",
       "<table border=\"1\" class=\"dataframe\">\n",
       "  <thead>\n",
       "    <tr style=\"text-align: right;\">\n",
       "      <th>Sites</th>\n",
       "      <th>1</th>\n",
       "      <th>2</th>\n",
       "      <th>3</th>\n",
       "    </tr>\n",
       "  </thead>\n",
       "  <tbody>\n",
       "    <tr>\n",
       "      <th>1</th>\n",
       "      <td>96</td>\n",
       "      <td>76</td>\n",
       "      <td>58</td>\n",
       "    </tr>\n",
       "    <tr>\n",
       "      <th>2</th>\n",
       "      <td>97</td>\n",
       "      <td>66</td>\n",
       "      <td>68</td>\n",
       "    </tr>\n",
       "    <tr>\n",
       "      <th>3</th>\n",
       "      <td>100</td>\n",
       "      <td>83</td>\n",
       "      <td>100</td>\n",
       "    </tr>\n",
       "    <tr>\n",
       "      <th>4</th>\n",
       "      <td>81</td>\n",
       "      <td>52</td>\n",
       "      <td>52</td>\n",
       "    </tr>\n",
       "    <tr>\n",
       "      <th>5</th>\n",
       "      <td>89</td>\n",
       "      <td>54</td>\n",
       "      <td>83</td>\n",
       "    </tr>\n",
       "    <tr>\n",
       "      <th>6</th>\n",
       "      <td>57</td>\n",
       "      <td>63</td>\n",
       "      <td>74</td>\n",
       "    </tr>\n",
       "    <tr>\n",
       "      <th>7</th>\n",
       "      <td>71</td>\n",
       "      <td>96</td>\n",
       "      <td>66</td>\n",
       "    </tr>\n",
       "    <tr>\n",
       "      <th>8</th>\n",
       "      <td>96</td>\n",
       "      <td>99</td>\n",
       "      <td>64</td>\n",
       "    </tr>\n",
       "    <tr>\n",
       "      <th>9</th>\n",
       "      <td>55</td>\n",
       "      <td>94</td>\n",
       "      <td>63</td>\n",
       "    </tr>\n",
       "    <tr>\n",
       "      <th>10</th>\n",
       "      <td>84</td>\n",
       "      <td>86</td>\n",
       "      <td>83</td>\n",
       "    </tr>\n",
       "  </tbody>\n",
       "</table>\n",
       "</div>"
      ],
      "text/plain": [
       "Sites    1   2    3\n",
       "1       96  76   58\n",
       "2       97  66   68\n",
       "3      100  83  100\n",
       "4       81  52   52\n",
       "5       89  54   83\n",
       "6       57  63   74\n",
       "7       71  96   66\n",
       "8       96  99   64\n",
       "9       55  94   63\n",
       "10      84  86   83"
      ]
     },
     "execution_count": 5,
     "metadata": {},
     "output_type": "execute_result"
    }
   ],
   "source": [
    "costs"
   ]
  },
  {
   "cell_type": "markdown",
   "metadata": {},
   "source": [
    "### 3. Add Variables\n",
    "In addition to adding variables, I also made several parameters used, namely:\n",
    "- list_customer: store collection\n",
    "- list_sites: a collection of distribution centers\n",
    "- keys: store and distribution center combination for variable creation purposes\n",
    "\n",
    "The variables used in this problem are:\n",
    "- yij: demand allocation from the store i which is fulfilled by distribution center j. This variable is an integer greater than 0.\n",
    "- xij: binary type variable that states the condition of the distribution center will be built or not\n",
    "\n",
    "<img src=\"https://raw.githubusercontent.com/rianromad/Image-Storage/main/flp%20var.PNG?token=AOWKXL6HY4EP5HD63CJVEYTBBKI6G\" />\n",
    "\n",
    "*Source: Sarker and Newton - Optimization Modelling, A Practical Approach*"
   ]
  },
  {
   "cell_type": "code",
   "execution_count": 6,
   "metadata": {},
   "outputs": [],
   "source": [
    "#create parameter\n",
    "list_customers = customers.index\n",
    "list_sites = dist_center.index\n",
    "keys = [(i,j) for i in list_customers for j in list_sites]\n",
    "\n",
    "#create variable\n",
    "y = LpVariable.dicts(\"y\", keys, 0, None, \"Integer\")\n",
    "x = LpVariable.dicts(\"x\", list_sites, 0, None, \"Binary\")"
   ]
  },
  {
   "cell_type": "markdown",
   "metadata": {},
   "source": [
    "### 4. Initiate the Model\n",
    "Since the goal of this problem is to minimize costs, use **LpMinimize**"
   ]
  },
  {
   "cell_type": "code",
   "execution_count": 7,
   "metadata": {},
   "outputs": [],
   "source": [
    "model = LpProblem(\"Facility_Location_Problem\", LpMinimize)"
   ]
  },
  {
   "cell_type": "markdown",
   "metadata": {},
   "source": [
    "### 5. Add Objective Function and Constraints\n",
    "\n",
    "**Objective Function:**\n",
    "\n",
    "The purpose of this problem is to minimize the costs as well as the costs required to distribute goods from the distribution center to the store.\n",
    "\n",
    "**Constraints:**\n",
    " \n",
    " - Customer/store demand (Di) must be met\n",
    " - Store i cannot be served by distribution center j unless the facility is built and the number of goods distributed from distribution center j to all stores must be less than equal to its capacity (Uj).\n",
    " \n",
    "<img src=\"https://raw.githubusercontent.com/rianromad/Image-Storage/main/flp.PNG?token=AOWKXL5AYCONTRB5GHHZHRTBBKHX4\" />\n",
    "\n",
    "*Source: Sarker and Newton - Optimization Modelling, A Practical Approach*"
   ]
  },
  {
   "cell_type": "code",
   "execution_count": 8,
   "metadata": {},
   "outputs": [],
   "source": [
    "#fungsi tujuan\n",
    "model += lpSum([dist_center.loc[j,\"Cost\"]*x[j] for j in list_sites]) +  lpSum([costs.loc[i,j]*y[i,j] for (i,j) in keys])"
   ]
  },
  {
   "cell_type": "code",
   "execution_count": 9,
   "metadata": {},
   "outputs": [],
   "source": [
    "#constraint\n",
    "for i in list_customers:\n",
    "    model += lpSum([y[i,j] for j in list_sites]) == customers.loc[i,\"Demand per Periode\"]\n",
    "    \n",
    "for j in list_sites:\n",
    "    model += lpSum([y[i,j] - dist_center.loc[j,\"Capacity\"]*x[j] for i in list_customers]) <=0"
   ]
  },
  {
   "cell_type": "markdown",
   "metadata": {},
   "source": [
    "### 6. Solve the Model and Check the Result"
   ]
  },
  {
   "cell_type": "code",
   "execution_count": 10,
   "metadata": {},
   "outputs": [
    {
     "data": {
      "text/plain": [
       "1"
      ]
     },
     "execution_count": 10,
     "metadata": {},
     "output_type": "execute_result"
    }
   ],
   "source": [
    "#Check model status (1 = optimal)\n",
    "model.solve()"
   ]
  },
  {
   "cell_type": "code",
   "execution_count": 11,
   "metadata": {},
   "outputs": [
    {
     "data": {
      "text/plain": [
       "26260"
      ]
     },
     "execution_count": 11,
     "metadata": {},
     "output_type": "execute_result"
    }
   ],
   "source": [
    "#Check how many cost which spent\n",
    "model.objective.value()"
   ]
  },
  {
   "cell_type": "markdown",
   "metadata": {},
   "source": [
    "I also created a table containing the solutions to the problems above to make them easier to reach."
   ]
  },
  {
   "cell_type": "code",
   "execution_count": 12,
   "metadata": {},
   "outputs": [
    {
     "data": {
      "text/html": [
       "<div>\n",
       "<style scoped>\n",
       "    .dataframe tbody tr th:only-of-type {\n",
       "        vertical-align: middle;\n",
       "    }\n",
       "\n",
       "    .dataframe tbody tr th {\n",
       "        vertical-align: top;\n",
       "    }\n",
       "\n",
       "    .dataframe thead th {\n",
       "        text-align: right;\n",
       "    }\n",
       "</style>\n",
       "<table border=\"1\" class=\"dataframe\">\n",
       "  <thead>\n",
       "    <tr style=\"text-align: right;\">\n",
       "      <th>Customers</th>\n",
       "      <th>1</th>\n",
       "      <th>2</th>\n",
       "      <th>3</th>\n",
       "      <th>4</th>\n",
       "      <th>5</th>\n",
       "      <th>6</th>\n",
       "      <th>7</th>\n",
       "      <th>8</th>\n",
       "      <th>9</th>\n",
       "      <th>10</th>\n",
       "    </tr>\n",
       "    <tr>\n",
       "      <th>Locations</th>\n",
       "      <th></th>\n",
       "      <th></th>\n",
       "      <th></th>\n",
       "      <th></th>\n",
       "      <th></th>\n",
       "      <th></th>\n",
       "      <th></th>\n",
       "      <th></th>\n",
       "      <th></th>\n",
       "      <th></th>\n",
       "    </tr>\n",
       "  </thead>\n",
       "  <tbody>\n",
       "    <tr>\n",
       "      <th>1</th>\n",
       "      <td>0</td>\n",
       "      <td>0</td>\n",
       "      <td>0</td>\n",
       "      <td>0</td>\n",
       "      <td>0</td>\n",
       "      <td>60</td>\n",
       "      <td>0</td>\n",
       "      <td>0</td>\n",
       "      <td>40</td>\n",
       "      <td>0</td>\n",
       "    </tr>\n",
       "    <tr>\n",
       "      <th>2</th>\n",
       "      <td>0</td>\n",
       "      <td>20</td>\n",
       "      <td>40</td>\n",
       "      <td>50</td>\n",
       "      <td>40</td>\n",
       "      <td>0</td>\n",
       "      <td>0</td>\n",
       "      <td>0</td>\n",
       "      <td>0</td>\n",
       "      <td>0</td>\n",
       "    </tr>\n",
       "    <tr>\n",
       "      <th>3</th>\n",
       "      <td>30</td>\n",
       "      <td>0</td>\n",
       "      <td>0</td>\n",
       "      <td>0</td>\n",
       "      <td>0</td>\n",
       "      <td>0</td>\n",
       "      <td>30</td>\n",
       "      <td>50</td>\n",
       "      <td>0</td>\n",
       "      <td>40</td>\n",
       "    </tr>\n",
       "  </tbody>\n",
       "</table>\n",
       "</div>"
      ],
      "text/plain": [
       "Customers  1   2   3   4   5   6   7   8   9   10\n",
       "Locations                                        \n",
       "1           0   0   0   0   0  60   0   0  40   0\n",
       "2           0  20  40  50  40   0   0   0   0   0\n",
       "3          30   0   0   0   0   0  30  50   0  40"
      ]
     },
     "execution_count": 12,
     "metadata": {},
     "output_type": "execute_result"
    }
   ],
   "source": [
    "solutions = []\n",
    "for j in list_sites:\n",
    "    for i in list_customers:\n",
    "        solutions.append(y[i,j].varValue)\n",
    "\n",
    "solutions_grouped = [solutions[i:i+10] for i in range(0,len(solutions),10)]\n",
    "df_sol = pd.DataFrame(solutions_grouped, columns=list_customers, index=list_sites)\n",
    "df_sol"
   ]
  },
  {
   "cell_type": "code",
   "execution_count": 13,
   "metadata": {},
   "outputs": [],
   "source": [
    "#export tabel\n",
    "df_sol.to_excel(\"FLP_Solution.xlsx\")"
   ]
  },
  {
   "cell_type": "markdown",
   "metadata": {},
   "source": [
    "# Conclusion\n",
    "\n",
    "From the table above, the ten stores get supplies from three distribution centers. No shop doesn't get a share. The second facility has a lower price with a capacity of 150 so that it is fully utilized without waste. Unlike the first and third facilities, which still have remaining capacity. This is a short tutorial to solve the facility location problem using PuLP, sorry if there are mistakes or shortcomings. Good luck :)"
   ]
  }
 ],
 "metadata": {
  "kernelspec": {
   "display_name": "Python 3 (ipykernel)",
   "language": "python",
   "name": "python3"
  },
  "language_info": {
   "codemirror_mode": {
    "name": "ipython",
    "version": 3
   },
   "file_extension": ".py",
   "mimetype": "text/x-python",
   "name": "python",
   "nbconvert_exporter": "python",
   "pygments_lexer": "ipython3",
   "version": "3.9.7"
  }
 },
 "nbformat": 4,
 "nbformat_minor": 4
}
