{
 "cells": [
  {
   "cell_type": "markdown",
   "metadata": {},
   "source": [
    "# Introduction to Optimization\n",
    "''You can find complete material from Sarker and Newton - Optimization Modeling and other operations research books''"
   ]
  },
  {
   "cell_type": "markdown",
   "metadata": {},
   "source": [
    "Optimization is a process to find a value that is close to optimal from a series of mathematical models. The optimal value in question can be a maximum or minimum value. The application of optimization in everyday life is quite broad, one of which is in the Industrial Engineering field. In this field, optimization is used to solve several problems include:\n",
    "\n",
    "1. Production and Job Scheduling\n",
    "2. Facility Allocation\n",
    "3. Traveling Salesman Problem\n",
    "4. Vehicle Routing Problem\n",
    "5. Transportation Problem\n",
    "6. Assignment Problem\n",
    "\n",
    "Etc.."
   ]
  },
  {
   "cell_type": "markdown",
   "metadata": {},
   "source": [
    "### There are three components in the mathematical model\n",
    "#### 1. Decision Variable\n",
    "\n",
    "The decision variable is a variable that represents the value that we will look for through the optimization process. Hopefully, the combination of optimized decision variables will produce the optimal value possible. There are several types of decision variables, including:\n",
    "\n",
    "- Binary: a variable whose value is 1 or 0 which represents two opposite things for example, yes or no\n",
    "- Integer: a variable whose value is an integer\n",
    "- Continuous: a variable whose value is a fraction/decimal number\n",
    "     \n",
    "\n",
    "#### 2. Objective Function\n",
    "\n",
    "The combination of the decision variables will produce an objective function that leads to the optimal value, which can be either a maximum or a minimum. An example of a maximum objective function is to maximize profit or sales, while a minimal objective function is to minimize costs, distances, and so on.\n",
    "\n",
    "#### 3. Constrain\n",
    "\n",
    "In daily life, we always find a limitation such as limited costs, supplies, certain conditions, and others. Those limitations are described as a constraint.  On the constraint, there are comparison operators such as ==, >=, <=, >, and <."
   ]
  },
  {
   "cell_type": "markdown",
   "metadata": {},
   "source": [
    "# PuLP Python\n",
    "\n",
    "PuLP is a library written in Python to solve Linear Programming problems. Currently, there is much software to solve Linear Programming problems such as Lindo, Microsoft Excel (Solver), ORSTAT, and many more. The combination of Python with the PuLP library is another alternative to the software above. You can try it using Python IDLE or Jupyter Notebook. The documentation of PuLP:\n",
    "https://www.coin-or.org/PuLP/pulp.html"
   ]
  },
  {
   "cell_type": "markdown",
   "metadata": {},
   "source": [
    "### 1. Importing Library"
   ]
  },
  {
   "cell_type": "code",
   "execution_count": null,
   "metadata": {},
   "outputs": [],
   "source": [
    "#Importing pulp -> Use * to get all methods, attributes, and functions from pulp without pulp prefix\n",
    "from pulp import *"
   ]
  },
  {
   "cell_type": "markdown",
   "metadata": {},
   "source": [
    "Usually in solving linear programming optimization problems with PuLP, we also need the help of other libraries such as Pandas and NumPy. After importing the library, we can initialize the pulp model first."
   ]
  },
  {
   "cell_type": "markdown",
   "metadata": {},
   "source": [
    "### 2. Model Initiation\n",
    "In the PuLp library, we can initialize the model first then add variables, and vice versa. However, we cannot create constraints or objective functions first because we have to initiate the model. The following is the order of performing the optimization using PuLP.\n",
    "\n",
    "**model initiation -> add variable -> add objective function and constraint -> solve the model -> check the result**\n",
    "\n",
    "or\n",
    "\n",
    "**add variable -> model initiation -> add objective function and constraint -> solve the model -> check the result**"
   ]
  },
  {
   "cell_type": "code",
   "execution_count": null,
   "metadata": {},
   "outputs": [],
   "source": [
    "#Initiate the model\n",
    "model = LpProblem(\"Problem_name\", LpMinimize)"
   ]
  },
  {
   "cell_type": "markdown",
   "metadata": {},
   "source": [
    "When initiating a model or problem using pulp, the first parameter is the model or problem name. Do not use spaces when giving the model name. Replace it with an underscore (_). The second parameter is the type of problem. Use **LpMinimize** for the minimization case and **LpMaximize** for the maximization case."
   ]
  },
  {
   "cell_type": "markdown",
   "metadata": {},
   "source": [
    "### 3. Add Variables\n",
    "\n",
    "After initiating the model or problem we can add several variables to be optimized. There are two ways to create variables using pulp, namely:\n",
    "\n",
    "1. For a small number of variables, you can use **LpVariable**\n",
    "2. For very many variables, you can use **LpVariable.dicts** which is accessed by using indexing"
   ]
  },
  {
   "cell_type": "code",
   "execution_count": null,
   "metadata": {},
   "outputs": [],
   "source": [
    "#suppose we only create 2 variables of type Integer\n",
    "x1 = LpVariable('x1', lowBound=0, upBound=None, cat='Integer')\n",
    "x2 = LpVariable('x2', lowBound=0, upBound=None, cat='Integer')"
   ]
  },
  {
   "cell_type": "code",
   "execution_count": null,
   "metadata": {},
   "outputs": [],
   "source": [
    "#suppose we want to create 100 variables of type integer\n",
    "x = LpVariable.dicts('x', indexs=[i for i in range(0,100)], lowBound=0, upBound=None, cat='Integer')\n",
    "\n",
    "#you can check the number of variables\n",
    "#print(x)"
   ]
  },
  {
   "cell_type": "markdown",
   "metadata": {},
   "source": [
    "There are several parameters in creating variables, namely:\n",
    "\n",
    "- name = variable name\n",
    "- indexs = the number of variables needed, usually using list comprehensions\n",
    "- lowBound = the lower limit of the variable, if all variables >= 0 then the lower limit is 0\n",
    "- upBound = the upper limit of the variable, if not there is no limit, you can enter (None)\n",
    "- cat = type of variable, there are three categories namely \"Continous\"(fraction), \"Integer\"(round), \"Binary\"(1/0)"
   ]
  },
  {
   "cell_type": "markdown",
   "metadata": {},
   "source": [
    "### 4.Add Objective Function and Constraints\n",
    "\n",
    "To add objective and constraint functions, we use the \"model\" object we defined earlier plus the increment operator (+=) and comparison operator (for constraints). The increment operator indicates that we are **updating** the model with additional constraints and objective functions. Suppose below is the objective function and the constraints that we will enter.\n",
    "\n",
    "\n",
    "max 500x1 + 100x2\n",
    "\n",
    "subject to\n",
    "\n",
    "    x1 + x2 <=50\n",
    "    \n",
    "    2x1 + 5x2 <=30"
   ]
  },
  {
   "cell_type": "code",
   "execution_count": null,
   "metadata": {},
   "outputs": [],
   "source": [
    "#Add objective function\n",
    "model += 500*x1 + 100*x2\n",
    "\n",
    "#Add constraints\n",
    "model += x1 + x2 <= 50\n",
    "model += 2*x1 + 5*x2 <=30"
   ]
  },
  {
   "cell_type": "markdown",
   "metadata": {},
   "source": [
    "If both the constraint and the objective function have long mathematical sentences and have an iterative pattern, we can use **lpSum**. lpSum acts as a substitute for the sigma/sum symbol in math sentences. Suppose there is an objective function as follows:\n",
    "\n",
    "<img src=\"https://raw.githubusercontent.com/rianromad/Image-Storage/main/f1.PNG?token=AOWKXL56PKBHW6GX33LT4Z3BBDPAQ\"/>\n",
    "\n",
    "We will try to make a pulp version of the objective function"
   ]
  },
  {
   "cell_type": "code",
   "execution_count": null,
   "metadata": {},
   "outputs": [],
   "source": [
    "#Add objective function with lpSum\n",
    "\n",
    "#I created 100 dummy cost data using NumPy\n",
    "import numpy as np\n",
    "cost = np.random.randint(10,80,100)\n",
    "\n",
    "model += lpSum([cost[i]*x[i]] for i in x.keys()) # for more details try printing x and cost"
   ]
  },
  {
   "cell_type": "markdown",
   "metadata": {},
   "source": [
    "### 5 Solve the Model"
   ]
  },
  {
   "cell_type": "markdown",
   "metadata": {},
   "source": [
    "To complete the model, we simply type **model.solve()** with the output in the form of an integer (status) with the following conditions:\n",
    "\n",
    "   1 = Optimal (this is what we want)\n",
    "   \n",
    "   2 = Not Solved\n",
    "   \n",
    "   3 = Infeasible\n",
    "   \n",
    "   4 = Unbounded\n",
    "   \n",
    "   5 = Undefined\n"
   ]
  },
  {
   "cell_type": "markdown",
   "metadata": {},
   "source": [
    "### 6. Check the Result\n",
    "\n",
    "1. Checking the value of the objective function: just type **model.objective.value()**\n",
    "\n",
    "2. Checking variable value: we can iterate and add method **.varValue** for each variable"
   ]
  },
  {
   "cell_type": "markdown",
   "metadata": {},
   "source": [
    "# Example:\n",
    "\n",
    "In this session we will try to solve a simple mathematical model as follows:\n",
    "\n",
    "<img src=\"https://cdn-images-1.medium.com/max/800/1*so27xxK-0UR3dcVfV5Mnug.png\" />\n",
    "\n",
    "\n",
    "*Source: Operations Research: Applications and Algorithms, Wayne L. Winston*"
   ]
  },
  {
   "cell_type": "code",
   "execution_count": 1,
   "metadata": {},
   "outputs": [],
   "source": [
    "#Importing library\n",
    "from pulp import *"
   ]
  },
  {
   "cell_type": "code",
   "execution_count": 2,
   "metadata": {},
   "outputs": [],
   "source": [
    "#Initiate the model\n",
    "model = LpProblem(\"Simple_model\", LpMinimize)"
   ]
  },
  {
   "cell_type": "code",
   "execution_count": 3,
   "metadata": {},
   "outputs": [],
   "source": [
    "#Add variables\n",
    "x = LpVariable.dicts(\"x\",[i for i in range(1,5)], lowBound=0, cat=\"Continous\")"
   ]
  },
  {
   "cell_type": "code",
   "execution_count": 4,
   "metadata": {},
   "outputs": [],
   "source": [
    "#Add objective function\n",
    "model += 50*x[1] + 20*x[2] + 30*x[3] + 80*x[4]"
   ]
  },
  {
   "cell_type": "code",
   "execution_count": 5,
   "metadata": {},
   "outputs": [],
   "source": [
    "#Add constraints\n",
    "model += 400*x[1] + 200*x[2] + 150*x[3] + 500*x[4] >= 500\n",
    "model += 3*x[1]   + 3*x[2]                         >= 6\n",
    "model += 2*x[1]   + 2*x[2]   + 4*x[3]   + 4*x[4]   >= 10\n",
    "model += 2*x[1]   + 4*x[2]   + x[3]     + 5*x[4]   >= 8"
   ]
  },
  {
   "cell_type": "code",
   "execution_count": 6,
   "metadata": {},
   "outputs": [
    {
     "data": {
      "text/plain": [
       "1"
      ]
     },
     "execution_count": 6,
     "metadata": {},
     "output_type": "execute_result"
    }
   ],
   "source": [
    "#Solve the model (1 = optimal)\n",
    "model.solve()"
   ]
  },
  {
   "cell_type": "code",
   "execution_count": 9,
   "metadata": {},
   "outputs": [
    {
     "name": "stdout",
     "output_type": "stream",
     "text": [
      "Value of x_1 = 0.0\n",
      "Value of x_2 = 2.0\n",
      "Value of x_3 = 1.5\n",
      "Value of x_4 = 0.0\n"
     ]
    }
   ],
   "source": [
    "#Check for the result\n",
    "for i in x.keys():\n",
    "    print(f\"Value of {x[i]} = {x[i].varValue}\")"
   ]
  },
  {
   "cell_type": "markdown",
   "metadata": {},
   "source": [
    "# Closing"
   ]
  },
  {
   "cell_type": "markdown",
   "metadata": {},
   "source": [
    "This is a short tutorial on using PuLP to solve linear programming optimizations. Make sure you already understand the Python programming language first so that it is easy to use. PuLP library can be a free alternative to linear programming software."
   ]
  }
 ],
 "metadata": {
  "kernelspec": {
   "display_name": "Python 3 (ipykernel)",
   "language": "python",
   "name": "python3"
  },
  "language_info": {
   "codemirror_mode": {
    "name": "ipython",
    "version": 3
   },
   "file_extension": ".py",
   "mimetype": "text/x-python",
   "name": "python",
   "nbconvert_exporter": "python",
   "pygments_lexer": "ipython3",
   "version": "3.9.7"
  }
 },
 "nbformat": 4,
 "nbformat_minor": 4
}
